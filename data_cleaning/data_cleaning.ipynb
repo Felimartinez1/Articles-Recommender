{
 "cells": [
  {
   "cell_type": "code",
   "execution_count": 1,
   "id": "7a569fe2",
   "metadata": {
    "_cell_guid": "b1076dfc-b9ad-4769-8c92-a6c4dae69d19",
    "_uuid": "8f2839f25d086af736a60e9eeb907d3b93b6e0e5",
    "execution": {
     "iopub.execute_input": "2023-11-03T01:24:27.991914Z",
     "iopub.status.busy": "2023-11-03T01:24:27.990966Z",
     "iopub.status.idle": "2023-11-03T01:24:29.246578Z",
     "shell.execute_reply": "2023-11-03T01:24:29.245709Z"
    },
    "papermill": {
     "duration": 1.270583,
     "end_time": "2023-11-03T01:24:29.248942",
     "exception": false,
     "start_time": "2023-11-03T01:24:27.978359",
     "status": "completed"
    },
    "tags": []
   },
   "outputs": [
    {
     "name": "stdout",
     "output_type": "stream",
     "text": [
      "/kaggle/input/local-datasets/purchase_history.csv\n",
      "/kaggle/input/local-datasets/data_users.csv\n",
      "/kaggle/input/local-datasets/data_items.csv\n"
     ]
    }
   ],
   "source": [
    "# This Python 3 environment comes with many helpful analytics libraries installed\n",
    "# It is defined by the kaggle/python Docker image: https://github.com/kaggle/docker-python\n",
    "# For example, here's several helpful packages to load\n",
    "\n",
    "import numpy as np # linear algebra\n",
    "import pandas as pd # data processing, CSV file I/O (e.g. pd.read_csv)\n",
    "\n",
    "# Input data files are available in the read-only \"../input/\" directory\n",
    "# For example, running this (by clicking run or pressing Shift+Enter) will list all files under the input directory\n",
    "\n",
    "import os\n",
    "for dirname, _, filenames in os.walk('/kaggle/input'):\n",
    "    for filename in filenames:\n",
    "        print(os.path.join(dirname, filename))\n",
    "\n",
    "# You can write up to 20GB to the current directory (/kaggle/working/) that gets preserved as output when you create a version using \"Save & Run All\" \n",
    "# You can also write temporary files to /kaggle/temp/, but they won't be saved outside of the current session"
   ]
  },
  {
   "cell_type": "markdown",
   "id": "20abff49",
   "metadata": {
    "papermill": {
     "duration": 0.007643,
     "end_time": "2023-11-03T01:24:29.265041",
     "exception": false,
     "start_time": "2023-11-03T01:24:29.257398",
     "status": "completed"
    },
    "tags": []
   },
   "source": [
    "# Importing Tools"
   ]
  },
  {
   "cell_type": "code",
   "execution_count": 2,
   "id": "c503de3b",
   "metadata": {
    "execution": {
     "iopub.execute_input": "2023-11-03T01:24:29.281661Z",
     "iopub.status.busy": "2023-11-03T01:24:29.281305Z",
     "iopub.status.idle": "2023-11-03T01:24:45.202577Z",
     "shell.execute_reply": "2023-11-03T01:24:45.201643Z"
    },
    "papermill": {
     "duration": 15.93273,
     "end_time": "2023-11-03T01:24:45.205439",
     "exception": false,
     "start_time": "2023-11-03T01:24:29.272709",
     "status": "completed"
    },
    "tags": []
   },
   "outputs": [
    {
     "name": "stderr",
     "output_type": "stream",
     "text": [
      "/opt/conda/lib/python3.10/site-packages/scipy/__init__.py:146: UserWarning: A NumPy version >=1.16.5 and <1.23.0 is required for this version of SciPy (detected version 1.23.5\n",
      "  warnings.warn(f\"A NumPy version >={np_minversion} and <{np_maxversion}\"\n"
     ]
    }
   ],
   "source": [
    "import pandas as pd\n",
    "import numpy as np\n",
    "\n",
    "import tensorflow as tf\n",
    "\n",
    "import matplotlib.pyplot as plt\n",
    "import seaborn as sns\n",
    "from PIL import Image"
   ]
  },
  {
   "cell_type": "markdown",
   "id": "e4ff71de",
   "metadata": {
    "papermill": {
     "duration": 0.009973,
     "end_time": "2023-11-03T01:24:45.227406",
     "exception": false,
     "start_time": "2023-11-03T01:24:45.217433",
     "status": "completed"
    },
    "tags": []
   },
   "source": [
    "# Cleaning Data"
   ]
  },
  {
   "cell_type": "code",
   "execution_count": 3,
   "id": "f5bfb302",
   "metadata": {
    "execution": {
     "iopub.execute_input": "2023-11-03T01:24:45.244938Z",
     "iopub.status.busy": "2023-11-03T01:24:45.244457Z",
     "iopub.status.idle": "2023-11-03T01:24:46.108132Z",
     "shell.execute_reply": "2023-11-03T01:24:46.107124Z"
    },
    "papermill": {
     "duration": 0.875292,
     "end_time": "2023-11-03T01:24:46.110808",
     "exception": false,
     "start_time": "2023-11-03T01:24:45.235516",
     "status": "completed"
    },
    "tags": []
   },
   "outputs": [
    {
     "name": "stdout",
     "output_type": "stream",
     "text": [
      "All right\n"
     ]
    },
    {
     "name": "stderr",
     "output_type": "stream",
     "text": [
      "/tmp/ipykernel_26/4010311179.py:1: DtypeWarning: Columns (1) have mixed types. Specify dtype option on import or set low_memory=False.\n",
      "  df_purchases = pd.read_csv('/kaggle/input/local-datasets/purchase_history.csv')\n"
     ]
    }
   ],
   "source": [
    "df_purchases = pd.read_csv('/kaggle/input/local-datasets/purchase_history.csv')\n",
    "df_users = pd.read_csv('/kaggle/input/local-datasets/data_users.csv')\n",
    "df_items = pd.read_csv('/kaggle/input/local-datasets/data_items.csv')\n",
    "\n",
    "def remove_unnamed_column(df):\n",
    "    df.drop(columns=['Unnamed: 0'], inplace=True) if 'Unnamed: 0' in df.columns else print('All right')\n",
    "        \n",
    "remove_unnamed_column(df_purchases)\n",
    "remove_unnamed_column(df_users)\n",
    "remove_unnamed_column(df_items)"
   ]
  },
  {
   "cell_type": "markdown",
   "id": "5e882d9e",
   "metadata": {
    "papermill": {
     "duration": 0.007831,
     "end_time": "2023-11-03T01:24:46.126967",
     "exception": false,
     "start_time": "2023-11-03T01:24:46.119136",
     "status": "completed"
    },
    "tags": []
   },
   "source": [
    "### Users"
   ]
  },
  {
   "cell_type": "code",
   "execution_count": 4,
   "id": "8f759ca7",
   "metadata": {
    "execution": {
     "iopub.execute_input": "2023-11-03T01:24:46.144168Z",
     "iopub.status.busy": "2023-11-03T01:24:46.143861Z",
     "iopub.status.idle": "2023-11-03T01:24:46.162174Z",
     "shell.execute_reply": "2023-11-03T01:24:46.161113Z"
    },
    "papermill": {
     "duration": 0.02943,
     "end_time": "2023-11-03T01:24:46.164343",
     "exception": false,
     "start_time": "2023-11-03T01:24:46.134913",
     "status": "completed"
    },
    "tags": []
   },
   "outputs": [
    {
     "data": {
      "text/html": [
       "<div>\n",
       "<style scoped>\n",
       "    .dataframe tbody tr th:only-of-type {\n",
       "        vertical-align: middle;\n",
       "    }\n",
       "\n",
       "    .dataframe tbody tr th {\n",
       "        vertical-align: top;\n",
       "    }\n",
       "\n",
       "    .dataframe thead th {\n",
       "        text-align: right;\n",
       "    }\n",
       "</style>\n",
       "<table border=\"1\" class=\"dataframe\">\n",
       "  <thead>\n",
       "    <tr style=\"text-align: right;\">\n",
       "      <th></th>\n",
       "      <th>CodCliente</th>\n",
       "      <th>CodigoPostal</th>\n",
       "      <th>Vendedor</th>\n",
       "      <th>Zona</th>\n",
       "      <th>LimiteCredito</th>\n",
       "    </tr>\n",
       "  </thead>\n",
       "  <tbody>\n",
       "    <tr>\n",
       "      <th>0</th>\n",
       "      <td>1</td>\n",
       "      <td>51892</td>\n",
       "      <td>14</td>\n",
       "      <td>30</td>\n",
       "      <td>91815.00</td>\n",
       "    </tr>\n",
       "    <tr>\n",
       "      <th>1</th>\n",
       "      <td>2</td>\n",
       "      <td>57000</td>\n",
       "      <td>6</td>\n",
       "      <td>93</td>\n",
       "      <td>15264.00</td>\n",
       "    </tr>\n",
       "    <tr>\n",
       "      <th>2</th>\n",
       "      <td>3</td>\n",
       "      <td>16271</td>\n",
       "      <td>2</td>\n",
       "      <td>43</td>\n",
       "      <td>8322.65</td>\n",
       "    </tr>\n",
       "    <tr>\n",
       "      <th>3</th>\n",
       "      <td>4</td>\n",
       "      <td>5800</td>\n",
       "      <td>10</td>\n",
       "      <td>1</td>\n",
       "      <td>1.00</td>\n",
       "    </tr>\n",
       "    <tr>\n",
       "      <th>4</th>\n",
       "      <td>5</td>\n",
       "      <td>5194</td>\n",
       "      <td>13</td>\n",
       "      <td>32</td>\n",
       "      <td>1.00</td>\n",
       "    </tr>\n",
       "    <tr>\n",
       "      <th>...</th>\n",
       "      <td>...</td>\n",
       "      <td>...</td>\n",
       "      <td>...</td>\n",
       "      <td>...</td>\n",
       "      <td>...</td>\n",
       "    </tr>\n",
       "    <tr>\n",
       "      <th>3021</th>\n",
       "      <td>100067</td>\n",
       "      <td>5805</td>\n",
       "      <td>9</td>\n",
       "      <td>100</td>\n",
       "      <td>0.00</td>\n",
       "    </tr>\n",
       "    <tr>\n",
       "      <th>3022</th>\n",
       "      <td>100080</td>\n",
       "      <td>5847</td>\n",
       "      <td>9</td>\n",
       "      <td>1</td>\n",
       "      <td>0.00</td>\n",
       "    </tr>\n",
       "    <tr>\n",
       "      <th>3023</th>\n",
       "      <td>100748</td>\n",
       "      <td>5800</td>\n",
       "      <td>3</td>\n",
       "      <td>50</td>\n",
       "      <td>68524.49</td>\n",
       "    </tr>\n",
       "    <tr>\n",
       "      <th>3024</th>\n",
       "      <td>100749</td>\n",
       "      <td>5800</td>\n",
       "      <td>3</td>\n",
       "      <td>50</td>\n",
       "      <td>1.00</td>\n",
       "    </tr>\n",
       "    <tr>\n",
       "      <th>3025</th>\n",
       "      <td>100750</td>\n",
       "      <td>5800</td>\n",
       "      <td>3</td>\n",
       "      <td>51</td>\n",
       "      <td>1.00</td>\n",
       "    </tr>\n",
       "  </tbody>\n",
       "</table>\n",
       "<p>3026 rows × 5 columns</p>\n",
       "</div>"
      ],
      "text/plain": [
       "      CodCliente  CodigoPostal  Vendedor  Zona  LimiteCredito\n",
       "0              1         51892        14    30       91815.00\n",
       "1              2         57000         6    93       15264.00\n",
       "2              3         16271         2    43        8322.65\n",
       "3              4          5800        10     1           1.00\n",
       "4              5          5194        13    32           1.00\n",
       "...          ...           ...       ...   ...            ...\n",
       "3021      100067          5805         9   100           0.00\n",
       "3022      100080          5847         9     1           0.00\n",
       "3023      100748          5800         3    50       68524.49\n",
       "3024      100749          5800         3    50           1.00\n",
       "3025      100750          5800         3    51           1.00\n",
       "\n",
       "[3026 rows x 5 columns]"
      ]
     },
     "execution_count": 4,
     "metadata": {},
     "output_type": "execute_result"
    }
   ],
   "source": [
    "df_users"
   ]
  },
  {
   "cell_type": "code",
   "execution_count": 5,
   "id": "e5ab3120",
   "metadata": {
    "execution": {
     "iopub.execute_input": "2023-11-03T01:24:46.182709Z",
     "iopub.status.busy": "2023-11-03T01:24:46.182447Z",
     "iopub.status.idle": "2023-11-03T01:24:46.187825Z",
     "shell.execute_reply": "2023-11-03T01:24:46.187106Z"
    },
    "papermill": {
     "duration": 0.01656,
     "end_time": "2023-11-03T01:24:46.189785",
     "exception": false,
     "start_time": "2023-11-03T01:24:46.173225",
     "status": "completed"
    },
    "tags": []
   },
   "outputs": [],
   "source": [
    "df_users.rename(columns={'CodCliente':'ClienteID'}, inplace=True)"
   ]
  },
  {
   "cell_type": "code",
   "execution_count": 6,
   "id": "461c27e2",
   "metadata": {
    "execution": {
     "iopub.execute_input": "2023-11-03T01:24:46.207700Z",
     "iopub.status.busy": "2023-11-03T01:24:46.207443Z",
     "iopub.status.idle": "2023-11-03T01:24:46.231985Z",
     "shell.execute_reply": "2023-11-03T01:24:46.231092Z"
    },
    "papermill": {
     "duration": 0.035496,
     "end_time": "2023-11-03T01:24:46.233757",
     "exception": false,
     "start_time": "2023-11-03T01:24:46.198261",
     "status": "completed"
    },
    "tags": []
   },
   "outputs": [
    {
     "name": "stdout",
     "output_type": "stream",
     "text": [
      "<class 'pandas.core.frame.DataFrame'>\n",
      "RangeIndex: 3026 entries, 0 to 3025\n",
      "Data columns (total 5 columns):\n",
      " #   Column         Non-Null Count  Dtype  \n",
      "---  ------         --------------  -----  \n",
      " 0   ClienteID      3026 non-null   int64  \n",
      " 1   CodigoPostal   3026 non-null   int64  \n",
      " 2   Vendedor       3026 non-null   int64  \n",
      " 3   Zona           3026 non-null   int64  \n",
      " 4   LimiteCredito  3026 non-null   float64\n",
      "dtypes: float64(1), int64(4)\n",
      "memory usage: 118.3 KB\n"
     ]
    }
   ],
   "source": [
    "df_users.info()"
   ]
  },
  {
   "cell_type": "code",
   "execution_count": 7,
   "id": "39f60314",
   "metadata": {
    "execution": {
     "iopub.execute_input": "2023-11-03T01:24:46.252047Z",
     "iopub.status.busy": "2023-11-03T01:24:46.251791Z",
     "iopub.status.idle": "2023-11-03T01:24:46.258917Z",
     "shell.execute_reply": "2023-11-03T01:24:46.258023Z"
    },
    "papermill": {
     "duration": 0.018817,
     "end_time": "2023-11-03T01:24:46.260979",
     "exception": false,
     "start_time": "2023-11-03T01:24:46.242162",
     "status": "completed"
    },
    "tags": []
   },
   "outputs": [
    {
     "data": {
      "text/plain": [
       "ClienteID        0\n",
       "CodigoPostal     0\n",
       "Vendedor         0\n",
       "Zona             0\n",
       "LimiteCredito    0\n",
       "dtype: int64"
      ]
     },
     "execution_count": 7,
     "metadata": {},
     "output_type": "execute_result"
    }
   ],
   "source": [
    "df_users.isnull().sum()"
   ]
  },
  {
   "cell_type": "code",
   "execution_count": 8,
   "id": "e8bec801",
   "metadata": {
    "execution": {
     "iopub.execute_input": "2023-11-03T01:24:46.280033Z",
     "iopub.status.busy": "2023-11-03T01:24:46.279744Z",
     "iopub.status.idle": "2023-11-03T01:24:46.292104Z",
     "shell.execute_reply": "2023-11-03T01:24:46.291216Z"
    },
    "papermill": {
     "duration": 0.024021,
     "end_time": "2023-11-03T01:24:46.294063",
     "exception": false,
     "start_time": "2023-11-03T01:24:46.270042",
     "status": "completed"
    },
    "tags": []
   },
   "outputs": [
    {
     "data": {
      "text/plain": [
       "False    3026\n",
       "Name: count, dtype: int64"
      ]
     },
     "execution_count": 8,
     "metadata": {},
     "output_type": "execute_result"
    }
   ],
   "source": [
    "duplicates = df_users.duplicated()\n",
    "duplicates.value_counts()"
   ]
  },
  {
   "cell_type": "markdown",
   "id": "738b6eca",
   "metadata": {
    "papermill": {
     "duration": 0.008738,
     "end_time": "2023-11-03T01:24:46.312067",
     "exception": false,
     "start_time": "2023-11-03T01:24:46.303329",
     "status": "completed"
    },
    "tags": []
   },
   "source": [
    "### Items"
   ]
  },
  {
   "cell_type": "code",
   "execution_count": 9,
   "id": "3cef16f4",
   "metadata": {
    "execution": {
     "iopub.execute_input": "2023-11-03T01:24:46.331683Z",
     "iopub.status.busy": "2023-11-03T01:24:46.331403Z",
     "iopub.status.idle": "2023-11-03T01:24:46.346463Z",
     "shell.execute_reply": "2023-11-03T01:24:46.345577Z"
    },
    "papermill": {
     "duration": 0.027193,
     "end_time": "2023-11-03T01:24:46.348482",
     "exception": false,
     "start_time": "2023-11-03T01:24:46.321289",
     "status": "completed"
    },
    "tags": []
   },
   "outputs": [
    {
     "data": {
      "text/html": [
       "<div>\n",
       "<style scoped>\n",
       "    .dataframe tbody tr th:only-of-type {\n",
       "        vertical-align: middle;\n",
       "    }\n",
       "\n",
       "    .dataframe tbody tr th {\n",
       "        vertical-align: top;\n",
       "    }\n",
       "\n",
       "    .dataframe thead th {\n",
       "        text-align: right;\n",
       "    }\n",
       "</style>\n",
       "<table border=\"1\" class=\"dataframe\">\n",
       "  <thead>\n",
       "    <tr style=\"text-align: right;\">\n",
       "      <th></th>\n",
       "      <th>CodArticu</th>\n",
       "      <th>PrecioCosto</th>\n",
       "      <th>ArticuloPatron</th>\n",
       "      <th>PrecioUnitario</th>\n",
       "    </tr>\n",
       "  </thead>\n",
       "  <tbody>\n",
       "    <tr>\n",
       "      <th>0</th>\n",
       "      <td>10001</td>\n",
       "      <td>3532.0000</td>\n",
       "      <td>CALENTADOR.EVERS</td>\n",
       "      <td>3532.0000</td>\n",
       "    </tr>\n",
       "    <tr>\n",
       "      <th>1</th>\n",
       "      <td>10002</td>\n",
       "      <td>3684.0000</td>\n",
       "      <td>CALENTADOR.EVERS</td>\n",
       "      <td>3684.0000</td>\n",
       "    </tr>\n",
       "    <tr>\n",
       "      <th>2</th>\n",
       "      <td>1001</td>\n",
       "      <td>62.2725</td>\n",
       "      <td>DESTAPA.CAÑERIAS</td>\n",
       "      <td>62.2725</td>\n",
       "    </tr>\n",
       "    <tr>\n",
       "      <th>3</th>\n",
       "      <td>10011</td>\n",
       "      <td>3517.0000</td>\n",
       "      <td>ESTUFA.CUARZO</td>\n",
       "      <td>3517.0000</td>\n",
       "    </tr>\n",
       "    <tr>\n",
       "      <th>4</th>\n",
       "      <td>10013</td>\n",
       "      <td>785.8500</td>\n",
       "      <td>CORTA.VIDRIO</td>\n",
       "      <td>785.8500</td>\n",
       "    </tr>\n",
       "    <tr>\n",
       "      <th>...</th>\n",
       "      <td>...</td>\n",
       "      <td>...</td>\n",
       "      <td>...</td>\n",
       "      <td>...</td>\n",
       "    </tr>\n",
       "    <tr>\n",
       "      <th>9750</th>\n",
       "      <td>999999</td>\n",
       "      <td>2276.5740</td>\n",
       "      <td>EXHIBIDORES</td>\n",
       "      <td>2276.5740</td>\n",
       "    </tr>\n",
       "    <tr>\n",
       "      <th>9751</th>\n",
       "      <td>FLETE</td>\n",
       "      <td>0.0000</td>\n",
       "      <td>GENERICO</td>\n",
       "      <td>0.0000</td>\n",
       "    </tr>\n",
       "    <tr>\n",
       "      <th>9752</th>\n",
       "      <td>OTROLADO</td>\n",
       "      <td>0.0000</td>\n",
       "      <td>GENERICO</td>\n",
       "      <td>0.0000</td>\n",
       "    </tr>\n",
       "    <tr>\n",
       "      <th>9753</th>\n",
       "      <td>PRUEBA2</td>\n",
       "      <td>1.1800</td>\n",
       "      <td>GENERICO</td>\n",
       "      <td>1.1800</td>\n",
       "    </tr>\n",
       "    <tr>\n",
       "      <th>9754</th>\n",
       "      <td>REDONDEO</td>\n",
       "      <td>0.0000</td>\n",
       "      <td>GENERICO</td>\n",
       "      <td>0.0000</td>\n",
       "    </tr>\n",
       "  </tbody>\n",
       "</table>\n",
       "<p>9755 rows × 4 columns</p>\n",
       "</div>"
      ],
      "text/plain": [
       "     CodArticu  PrecioCosto        ArticuloPatron  PrecioUnitario\n",
       "0        10001    3532.0000  CALENTADOR.EVERS           3532.0000\n",
       "1        10002    3684.0000  CALENTADOR.EVERS           3684.0000\n",
       "2         1001      62.2725  DESTAPA.CAÑERIAS             62.2725\n",
       "3        10011    3517.0000  ESTUFA.CUARZO              3517.0000\n",
       "4        10013     785.8500  CORTA.VIDRIO                785.8500\n",
       "...        ...          ...                   ...             ...\n",
       "9750    999999    2276.5740  EXHIBIDORES                2276.5740\n",
       "9751     FLETE       0.0000  GENERICO                      0.0000\n",
       "9752  OTROLADO       0.0000  GENERICO                      0.0000\n",
       "9753   PRUEBA2       1.1800  GENERICO                      1.1800\n",
       "9754  REDONDEO       0.0000  GENERICO                      0.0000\n",
       "\n",
       "[9755 rows x 4 columns]"
      ]
     },
     "execution_count": 9,
     "metadata": {},
     "output_type": "execute_result"
    }
   ],
   "source": [
    "df_items"
   ]
  },
  {
   "cell_type": "code",
   "execution_count": 10,
   "id": "e4ec8b7d",
   "metadata": {
    "execution": {
     "iopub.execute_input": "2023-11-03T01:24:46.369443Z",
     "iopub.status.busy": "2023-11-03T01:24:46.368884Z",
     "iopub.status.idle": "2023-11-03T01:24:46.373473Z",
     "shell.execute_reply": "2023-11-03T01:24:46.372581Z"
    },
    "papermill": {
     "duration": 0.01708,
     "end_time": "2023-11-03T01:24:46.375526",
     "exception": false,
     "start_time": "2023-11-03T01:24:46.358446",
     "status": "completed"
    },
    "tags": []
   },
   "outputs": [],
   "source": [
    "df_items.rename(columns={'CodArticu':'ArticuloID'}, inplace=True)"
   ]
  },
  {
   "cell_type": "code",
   "execution_count": 11,
   "id": "84a130ca",
   "metadata": {
    "execution": {
     "iopub.execute_input": "2023-11-03T01:24:46.395653Z",
     "iopub.status.busy": "2023-11-03T01:24:46.395394Z",
     "iopub.status.idle": "2023-11-03T01:24:46.408015Z",
     "shell.execute_reply": "2023-11-03T01:24:46.406872Z"
    },
    "papermill": {
     "duration": 0.025163,
     "end_time": "2023-11-03T01:24:46.410107",
     "exception": false,
     "start_time": "2023-11-03T01:24:46.384944",
     "status": "completed"
    },
    "tags": []
   },
   "outputs": [
    {
     "name": "stdout",
     "output_type": "stream",
     "text": [
      "<class 'pandas.core.frame.DataFrame'>\n",
      "RangeIndex: 9755 entries, 0 to 9754\n",
      "Data columns (total 4 columns):\n",
      " #   Column          Non-Null Count  Dtype  \n",
      "---  ------          --------------  -----  \n",
      " 0   ArticuloID      9755 non-null   object \n",
      " 1   PrecioCosto     9755 non-null   float64\n",
      " 2   ArticuloPatron  9755 non-null   object \n",
      " 3   PrecioUnitario  9755 non-null   float64\n",
      "dtypes: float64(2), object(2)\n",
      "memory usage: 305.0+ KB\n"
     ]
    }
   ],
   "source": [
    "df_items.info()"
   ]
  },
  {
   "cell_type": "code",
   "execution_count": 12,
   "id": "6fcbf149",
   "metadata": {
    "execution": {
     "iopub.execute_input": "2023-11-03T01:24:46.430168Z",
     "iopub.status.busy": "2023-11-03T01:24:46.429869Z",
     "iopub.status.idle": "2023-11-03T01:24:46.438635Z",
     "shell.execute_reply": "2023-11-03T01:24:46.437690Z"
    },
    "papermill": {
     "duration": 0.021227,
     "end_time": "2023-11-03T01:24:46.440825",
     "exception": false,
     "start_time": "2023-11-03T01:24:46.419598",
     "status": "completed"
    },
    "tags": []
   },
   "outputs": [
    {
     "data": {
      "text/plain": [
       "ArticuloID        0\n",
       "PrecioCosto       0\n",
       "ArticuloPatron    0\n",
       "PrecioUnitario    0\n",
       "dtype: int64"
      ]
     },
     "execution_count": 12,
     "metadata": {},
     "output_type": "execute_result"
    }
   ],
   "source": [
    "df_items.isnull().sum()"
   ]
  },
  {
   "cell_type": "code",
   "execution_count": 13,
   "id": "9f701278",
   "metadata": {
    "execution": {
     "iopub.execute_input": "2023-11-03T01:24:46.463037Z",
     "iopub.status.busy": "2023-11-03T01:24:46.462742Z",
     "iopub.status.idle": "2023-11-03T01:24:46.472408Z",
     "shell.execute_reply": "2023-11-03T01:24:46.471591Z"
    },
    "papermill": {
     "duration": 0.022852,
     "end_time": "2023-11-03T01:24:46.474300",
     "exception": false,
     "start_time": "2023-11-03T01:24:46.451448",
     "status": "completed"
    },
    "tags": []
   },
   "outputs": [
    {
     "data": {
      "text/plain": [
       "ArticuloPatron\n",
       "BULON.CAB.HEXAGONAL     142\n",
       "ESM.SINT.QUIMEX         135\n",
       "AEROSOL.KUWAIT          133\n",
       "ESM.SINT.KAWA            82\n",
       "AEROSOL.TE-BOND          78\n",
       "                       ... \n",
       "PASADOR.CANBER.ARRIM      1\n",
       "INGCO.PINZA.SACABOCA      1\n",
       "INGCO.PUNTA.HEXAGONA      1\n",
       "INGCO.CINCEL.HEXAGON      1\n",
       "GANCHO.SOGA.ELASTIC       1\n",
       "Name: count, Length: 1536, dtype: int64"
      ]
     },
     "execution_count": 13,
     "metadata": {},
     "output_type": "execute_result"
    }
   ],
   "source": [
    "df_items['ArticuloPatron'].value_counts()"
   ]
  },
  {
   "cell_type": "code",
   "execution_count": 14,
   "id": "64930a9e",
   "metadata": {
    "execution": {
     "iopub.execute_input": "2023-11-03T01:24:46.493496Z",
     "iopub.status.busy": "2023-11-03T01:24:46.493239Z",
     "iopub.status.idle": "2023-11-03T01:24:46.505014Z",
     "shell.execute_reply": "2023-11-03T01:24:46.504178Z"
    },
    "papermill": {
     "duration": 0.023498,
     "end_time": "2023-11-03T01:24:46.506940",
     "exception": false,
     "start_time": "2023-11-03T01:24:46.483442",
     "status": "completed"
    },
    "tags": []
   },
   "outputs": [
    {
     "data": {
      "text/plain": [
       "ArticuloID\n",
       "10001       1\n",
       "65494       1\n",
       "6541042     1\n",
       "6541050     1\n",
       "6541263     1\n",
       "           ..\n",
       "366617      1\n",
       "366618      1\n",
       "366619      1\n",
       "366620      1\n",
       "REDONDEO    1\n",
       "Name: count, Length: 9755, dtype: int64"
      ]
     },
     "execution_count": 14,
     "metadata": {},
     "output_type": "execute_result"
    }
   ],
   "source": [
    "df_items['ArticuloID'].value_counts()"
   ]
  },
  {
   "cell_type": "code",
   "execution_count": 15,
   "id": "56b8b384",
   "metadata": {
    "execution": {
     "iopub.execute_input": "2023-11-03T01:24:46.528132Z",
     "iopub.status.busy": "2023-11-03T01:24:46.527828Z",
     "iopub.status.idle": "2023-11-03T01:24:46.546944Z",
     "shell.execute_reply": "2023-11-03T01:24:46.545896Z"
    },
    "papermill": {
     "duration": 0.031582,
     "end_time": "2023-11-03T01:24:46.549146",
     "exception": false,
     "start_time": "2023-11-03T01:24:46.517564",
     "status": "completed"
    },
    "tags": []
   },
   "outputs": [
    {
     "name": "stdout",
     "output_type": "stream",
     "text": [
      "     ArticuloID  PrecioCosto        ArticuloPatron  PrecioUnitario\n",
      "9751      FLETE         0.00  GENERICO                        0.00\n",
      "9752   OTROLADO         0.00  GENERICO                        0.00\n",
      "9753    PRUEBA2         1.18  GENERICO                        1.18\n",
      "9754   REDONDEO         0.00  GENERICO                        0.00\n"
     ]
    },
    {
     "name": "stderr",
     "output_type": "stream",
     "text": [
      "/tmp/ipykernel_26/3514840010.py:8: SettingWithCopyWarning: \n",
      "A value is trying to be set on a copy of a slice from a DataFrame.\n",
      "Try using .loc[row_indexer,col_indexer] = value instead\n",
      "\n",
      "See the caveats in the documentation: https://pandas.pydata.org/pandas-docs/stable/user_guide/indexing.html#returning-a-view-versus-a-copy\n",
      "  df_items['ArticuloID'] = df_items['ArticuloID'].astype('int64')\n"
     ]
    }
   ],
   "source": [
    "mask = df_items['ArticuloID'].str.contains('[a-zA-Z]', na=False)\n",
    "\n",
    "rows_with_words = df_items[mask]\n",
    "\n",
    "print(rows_with_words)\n",
    "\n",
    "df_items = df_items[~mask]\n",
    "df_items['ArticuloID'] = df_items['ArticuloID'].astype('int64')"
   ]
  },
  {
   "cell_type": "code",
   "execution_count": 16,
   "id": "3199813b",
   "metadata": {
    "execution": {
     "iopub.execute_input": "2023-11-03T01:24:46.569064Z",
     "iopub.status.busy": "2023-11-03T01:24:46.568806Z",
     "iopub.status.idle": "2023-11-03T01:24:46.582308Z",
     "shell.execute_reply": "2023-11-03T01:24:46.581534Z"
    },
    "papermill": {
     "duration": 0.025591,
     "end_time": "2023-11-03T01:24:46.584256",
     "exception": false,
     "start_time": "2023-11-03T01:24:46.558665",
     "status": "completed"
    },
    "tags": []
   },
   "outputs": [
    {
     "data": {
      "text/html": [
       "<div>\n",
       "<style scoped>\n",
       "    .dataframe tbody tr th:only-of-type {\n",
       "        vertical-align: middle;\n",
       "    }\n",
       "\n",
       "    .dataframe tbody tr th {\n",
       "        vertical-align: top;\n",
       "    }\n",
       "\n",
       "    .dataframe thead th {\n",
       "        text-align: right;\n",
       "    }\n",
       "</style>\n",
       "<table border=\"1\" class=\"dataframe\">\n",
       "  <thead>\n",
       "    <tr style=\"text-align: right;\">\n",
       "      <th></th>\n",
       "      <th>ArticuloID</th>\n",
       "      <th>PrecioCosto</th>\n",
       "      <th>ArticuloPatron</th>\n",
       "      <th>PrecioUnitario</th>\n",
       "    </tr>\n",
       "  </thead>\n",
       "  <tbody>\n",
       "    <tr>\n",
       "      <th>0</th>\n",
       "      <td>10001</td>\n",
       "      <td>3532.0000</td>\n",
       "      <td>CALENTADOR.EVERS</td>\n",
       "      <td>3532.0000</td>\n",
       "    </tr>\n",
       "    <tr>\n",
       "      <th>1</th>\n",
       "      <td>10002</td>\n",
       "      <td>3684.0000</td>\n",
       "      <td>CALENTADOR.EVERS</td>\n",
       "      <td>3684.0000</td>\n",
       "    </tr>\n",
       "    <tr>\n",
       "      <th>2</th>\n",
       "      <td>1001</td>\n",
       "      <td>62.2725</td>\n",
       "      <td>DESTAPA.CAÑERIAS</td>\n",
       "      <td>62.2725</td>\n",
       "    </tr>\n",
       "    <tr>\n",
       "      <th>3</th>\n",
       "      <td>10011</td>\n",
       "      <td>3517.0000</td>\n",
       "      <td>ESTUFA.CUARZO</td>\n",
       "      <td>3517.0000</td>\n",
       "    </tr>\n",
       "    <tr>\n",
       "      <th>4</th>\n",
       "      <td>10013</td>\n",
       "      <td>785.8500</td>\n",
       "      <td>CORTA.VIDRIO</td>\n",
       "      <td>785.8500</td>\n",
       "    </tr>\n",
       "    <tr>\n",
       "      <th>...</th>\n",
       "      <td>...</td>\n",
       "      <td>...</td>\n",
       "      <td>...</td>\n",
       "      <td>...</td>\n",
       "    </tr>\n",
       "    <tr>\n",
       "      <th>9746</th>\n",
       "      <td>9999950</td>\n",
       "      <td>5000.0000</td>\n",
       "      <td>EXHIBIDORES</td>\n",
       "      <td>5000.0000</td>\n",
       "    </tr>\n",
       "    <tr>\n",
       "      <th>9747</th>\n",
       "      <td>999996</td>\n",
       "      <td>1517.7160</td>\n",
       "      <td>EXHIBIDORES</td>\n",
       "      <td>1517.7160</td>\n",
       "    </tr>\n",
       "    <tr>\n",
       "      <th>9748</th>\n",
       "      <td>999997</td>\n",
       "      <td>303.5432</td>\n",
       "      <td>EXHIBIDORES</td>\n",
       "      <td>303.5432</td>\n",
       "    </tr>\n",
       "    <tr>\n",
       "      <th>9749</th>\n",
       "      <td>999998</td>\n",
       "      <td>3289.2400</td>\n",
       "      <td>EXHIBIDORES</td>\n",
       "      <td>3289.2400</td>\n",
       "    </tr>\n",
       "    <tr>\n",
       "      <th>9750</th>\n",
       "      <td>999999</td>\n",
       "      <td>2276.5740</td>\n",
       "      <td>EXHIBIDORES</td>\n",
       "      <td>2276.5740</td>\n",
       "    </tr>\n",
       "  </tbody>\n",
       "</table>\n",
       "<p>9751 rows × 4 columns</p>\n",
       "</div>"
      ],
      "text/plain": [
       "      ArticuloID  PrecioCosto        ArticuloPatron  PrecioUnitario\n",
       "0          10001    3532.0000  CALENTADOR.EVERS           3532.0000\n",
       "1          10002    3684.0000  CALENTADOR.EVERS           3684.0000\n",
       "2           1001      62.2725  DESTAPA.CAÑERIAS             62.2725\n",
       "3          10011    3517.0000  ESTUFA.CUARZO              3517.0000\n",
       "4          10013     785.8500  CORTA.VIDRIO                785.8500\n",
       "...          ...          ...                   ...             ...\n",
       "9746     9999950    5000.0000  EXHIBIDORES                5000.0000\n",
       "9747      999996    1517.7160  EXHIBIDORES                1517.7160\n",
       "9748      999997     303.5432  EXHIBIDORES                 303.5432\n",
       "9749      999998    3289.2400  EXHIBIDORES                3289.2400\n",
       "9750      999999    2276.5740  EXHIBIDORES                2276.5740\n",
       "\n",
       "[9751 rows x 4 columns]"
      ]
     },
     "execution_count": 16,
     "metadata": {},
     "output_type": "execute_result"
    }
   ],
   "source": [
    "df_items"
   ]
  },
  {
   "cell_type": "code",
   "execution_count": 17,
   "id": "87706e72",
   "metadata": {
    "execution": {
     "iopub.execute_input": "2023-11-03T01:24:46.604619Z",
     "iopub.status.busy": "2023-11-03T01:24:46.604357Z",
     "iopub.status.idle": "2023-11-03T01:24:46.616669Z",
     "shell.execute_reply": "2023-11-03T01:24:46.615795Z"
    },
    "papermill": {
     "duration": 0.024968,
     "end_time": "2023-11-03T01:24:46.618966",
     "exception": false,
     "start_time": "2023-11-03T01:24:46.593998",
     "status": "completed"
    },
    "tags": []
   },
   "outputs": [
    {
     "data": {
      "text/plain": [
       "False    9751\n",
       "Name: count, dtype: int64"
      ]
     },
     "execution_count": 17,
     "metadata": {},
     "output_type": "execute_result"
    }
   ],
   "source": [
    "duplicates = df_items.duplicated()\n",
    "duplicates.value_counts()"
   ]
  },
  {
   "cell_type": "markdown",
   "id": "a88b557f",
   "metadata": {
    "papermill": {
     "duration": 0.010412,
     "end_time": "2023-11-03T01:24:46.639046",
     "exception": false,
     "start_time": "2023-11-03T01:24:46.628634",
     "status": "completed"
    },
    "tags": []
   },
   "source": [
    "### Purchases"
   ]
  },
  {
   "cell_type": "code",
   "execution_count": 18,
   "id": "c6e2afac",
   "metadata": {
    "execution": {
     "iopub.execute_input": "2023-11-03T01:24:46.659539Z",
     "iopub.status.busy": "2023-11-03T01:24:46.659278Z",
     "iopub.status.idle": "2023-11-03T01:24:46.670751Z",
     "shell.execute_reply": "2023-11-03T01:24:46.669905Z"
    },
    "papermill": {
     "duration": 0.023927,
     "end_time": "2023-11-03T01:24:46.672736",
     "exception": false,
     "start_time": "2023-11-03T01:24:46.648809",
     "status": "completed"
    },
    "tags": []
   },
   "outputs": [
    {
     "data": {
      "text/html": [
       "<div>\n",
       "<style scoped>\n",
       "    .dataframe tbody tr th:only-of-type {\n",
       "        vertical-align: middle;\n",
       "    }\n",
       "\n",
       "    .dataframe tbody tr th {\n",
       "        vertical-align: top;\n",
       "    }\n",
       "\n",
       "    .dataframe thead th {\n",
       "        text-align: right;\n",
       "    }\n",
       "</style>\n",
       "<table border=\"1\" class=\"dataframe\">\n",
       "  <thead>\n",
       "    <tr style=\"text-align: right;\">\n",
       "      <th></th>\n",
       "      <th>CodCliente</th>\n",
       "      <th>CodArticu</th>\n",
       "      <th>Cantidad</th>\n",
       "    </tr>\n",
       "  </thead>\n",
       "  <tbody>\n",
       "    <tr>\n",
       "      <th>0</th>\n",
       "      <td>6998</td>\n",
       "      <td>55001</td>\n",
       "      <td>10.0</td>\n",
       "    </tr>\n",
       "    <tr>\n",
       "      <th>1</th>\n",
       "      <td>6998</td>\n",
       "      <td>50635222</td>\n",
       "      <td>4.0</td>\n",
       "    </tr>\n",
       "    <tr>\n",
       "      <th>2</th>\n",
       "      <td>454</td>\n",
       "      <td>610706</td>\n",
       "      <td>1.0</td>\n",
       "    </tr>\n",
       "    <tr>\n",
       "      <th>3</th>\n",
       "      <td>454</td>\n",
       "      <td>610701</td>\n",
       "      <td>5.0</td>\n",
       "    </tr>\n",
       "    <tr>\n",
       "      <th>4</th>\n",
       "      <td>454</td>\n",
       "      <td>372840</td>\n",
       "      <td>1.0</td>\n",
       "    </tr>\n",
       "    <tr>\n",
       "      <th>...</th>\n",
       "      <td>...</td>\n",
       "      <td>...</td>\n",
       "      <td>...</td>\n",
       "    </tr>\n",
       "    <tr>\n",
       "      <th>1798978</th>\n",
       "      <td>1896</td>\n",
       "      <td>153003</td>\n",
       "      <td>5.0</td>\n",
       "    </tr>\n",
       "    <tr>\n",
       "      <th>1798979</th>\n",
       "      <td>1595</td>\n",
       "      <td>94214</td>\n",
       "      <td>100.0</td>\n",
       "    </tr>\n",
       "    <tr>\n",
       "      <th>1798980</th>\n",
       "      <td>1403</td>\n",
       "      <td>12151</td>\n",
       "      <td>10.0</td>\n",
       "    </tr>\n",
       "    <tr>\n",
       "      <th>1798981</th>\n",
       "      <td>1317</td>\n",
       "      <td>701501</td>\n",
       "      <td>1500.0</td>\n",
       "    </tr>\n",
       "    <tr>\n",
       "      <th>1798982</th>\n",
       "      <td>1317</td>\n",
       "      <td>701601</td>\n",
       "      <td>1000.0</td>\n",
       "    </tr>\n",
       "  </tbody>\n",
       "</table>\n",
       "<p>1798983 rows × 3 columns</p>\n",
       "</div>"
      ],
      "text/plain": [
       "         CodCliente CodArticu  Cantidad\n",
       "0              6998     55001      10.0\n",
       "1              6998  50635222       4.0\n",
       "2               454    610706       1.0\n",
       "3               454    610701       5.0\n",
       "4               454    372840       1.0\n",
       "...             ...       ...       ...\n",
       "1798978        1896    153003       5.0\n",
       "1798979        1595     94214     100.0\n",
       "1798980        1403     12151      10.0\n",
       "1798981        1317    701501    1500.0\n",
       "1798982        1317    701601    1000.0\n",
       "\n",
       "[1798983 rows x 3 columns]"
      ]
     },
     "execution_count": 18,
     "metadata": {},
     "output_type": "execute_result"
    }
   ],
   "source": [
    "df_purchases"
   ]
  },
  {
   "cell_type": "code",
   "execution_count": 19,
   "id": "b273cc46",
   "metadata": {
    "execution": {
     "iopub.execute_input": "2023-11-03T01:24:46.693899Z",
     "iopub.status.busy": "2023-11-03T01:24:46.693638Z",
     "iopub.status.idle": "2023-11-03T01:24:46.697902Z",
     "shell.execute_reply": "2023-11-03T01:24:46.697143Z"
    },
    "papermill": {
     "duration": 0.017132,
     "end_time": "2023-11-03T01:24:46.699945",
     "exception": false,
     "start_time": "2023-11-03T01:24:46.682813",
     "status": "completed"
    },
    "tags": []
   },
   "outputs": [],
   "source": [
    "df_purchases.rename(columns={'CodCliente':'ClienteID', 'CodArticu': 'ArticuloID'}, inplace=True)"
   ]
  },
  {
   "cell_type": "code",
   "execution_count": 20,
   "id": "f086f4f4",
   "metadata": {
    "execution": {
     "iopub.execute_input": "2023-11-03T01:24:46.721764Z",
     "iopub.status.busy": "2023-11-03T01:24:46.721463Z",
     "iopub.status.idle": "2023-11-03T01:24:46.731070Z",
     "shell.execute_reply": "2023-11-03T01:24:46.730022Z"
    },
    "papermill": {
     "duration": 0.022877,
     "end_time": "2023-11-03T01:24:46.733048",
     "exception": false,
     "start_time": "2023-11-03T01:24:46.710171",
     "status": "completed"
    },
    "tags": []
   },
   "outputs": [
    {
     "name": "stdout",
     "output_type": "stream",
     "text": [
      "<class 'pandas.core.frame.DataFrame'>\n",
      "RangeIndex: 1798983 entries, 0 to 1798982\n",
      "Data columns (total 3 columns):\n",
      " #   Column      Dtype  \n",
      "---  ------      -----  \n",
      " 0   ClienteID   int64  \n",
      " 1   ArticuloID  object \n",
      " 2   Cantidad    float64\n",
      "dtypes: float64(1), int64(1), object(1)\n",
      "memory usage: 41.2+ MB\n"
     ]
    }
   ],
   "source": [
    "df_purchases.info()"
   ]
  },
  {
   "cell_type": "code",
   "execution_count": 21,
   "id": "2e52e49f",
   "metadata": {
    "execution": {
     "iopub.execute_input": "2023-11-03T01:24:46.754562Z",
     "iopub.status.busy": "2023-11-03T01:24:46.754303Z",
     "iopub.status.idle": "2023-11-03T01:24:46.923511Z",
     "shell.execute_reply": "2023-11-03T01:24:46.922741Z"
    },
    "papermill": {
     "duration": 0.182345,
     "end_time": "2023-11-03T01:24:46.925661",
     "exception": false,
     "start_time": "2023-11-03T01:24:46.743316",
     "status": "completed"
    },
    "tags": []
   },
   "outputs": [
    {
     "data": {
      "text/plain": [
       "ClienteID     0\n",
       "ArticuloID    0\n",
       "Cantidad      0\n",
       "dtype: int64"
      ]
     },
     "execution_count": 21,
     "metadata": {},
     "output_type": "execute_result"
    }
   ],
   "source": [
    "df_purchases.isnull().sum()"
   ]
  },
  {
   "cell_type": "code",
   "execution_count": 22,
   "id": "2d15d50c",
   "metadata": {
    "execution": {
     "iopub.execute_input": "2023-11-03T01:24:46.947948Z",
     "iopub.status.busy": "2023-11-03T01:24:46.947666Z",
     "iopub.status.idle": "2023-11-03T01:24:47.492851Z",
     "shell.execute_reply": "2023-11-03T01:24:47.491953Z"
    },
    "papermill": {
     "duration": 0.558626,
     "end_time": "2023-11-03T01:24:47.494911",
     "exception": false,
     "start_time": "2023-11-03T01:24:46.936285",
     "status": "completed"
    },
    "tags": []
   },
   "outputs": [
    {
     "data": {
      "text/plain": [
       "False    1798983\n",
       "Name: count, dtype: int64"
      ]
     },
     "execution_count": 22,
     "metadata": {},
     "output_type": "execute_result"
    }
   ],
   "source": [
    "duplicates = df_purchases.duplicated()\n",
    "duplicates.value_counts()"
   ]
  },
  {
   "cell_type": "code",
   "execution_count": 23,
   "id": "b6bf61be",
   "metadata": {
    "execution": {
     "iopub.execute_input": "2023-11-03T01:24:47.518292Z",
     "iopub.status.busy": "2023-11-03T01:24:47.517559Z",
     "iopub.status.idle": "2023-11-03T01:24:50.649989Z",
     "shell.execute_reply": "2023-11-03T01:24:50.648907Z"
    },
    "papermill": {
     "duration": 3.146002,
     "end_time": "2023-11-03T01:24:50.651935",
     "exception": false,
     "start_time": "2023-11-03T01:24:47.505933",
     "status": "completed"
    },
    "tags": []
   },
   "outputs": [
    {
     "name": "stdout",
     "output_type": "stream",
     "text": [
      "       ClienteID ArticuloID  Cantidad\n",
      "87114       1571      ERROR       1.0\n",
      "87115         32      ERROR       1.0\n",
      "87128        545      ERROR       1.0\n"
     ]
    },
    {
     "name": "stderr",
     "output_type": "stream",
     "text": [
      "/tmp/ipykernel_26/1296008951.py:8: SettingWithCopyWarning: \n",
      "A value is trying to be set on a copy of a slice from a DataFrame.\n",
      "Try using .loc[row_indexer,col_indexer] = value instead\n",
      "\n",
      "See the caveats in the documentation: https://pandas.pydata.org/pandas-docs/stable/user_guide/indexing.html#returning-a-view-versus-a-copy\n",
      "  df_purchases['ArticuloID'] = df_purchases['ArticuloID'].astype('int64')\n"
     ]
    }
   ],
   "source": [
    "mask2 = df_purchases['ArticuloID'].str.contains('[a-zA-Z]', na=False)\n",
    "\n",
    "rows_with_words2 = df_purchases[mask2]\n",
    "\n",
    "print(rows_with_words2)\n",
    "\n",
    "df_purchases = df_purchases[~mask2]\n",
    "df_purchases['ArticuloID'] = df_purchases['ArticuloID'].astype('int64')"
   ]
  },
  {
   "cell_type": "code",
   "execution_count": 24,
   "id": "1bc3894d",
   "metadata": {
    "execution": {
     "iopub.execute_input": "2023-11-03T01:24:50.675361Z",
     "iopub.status.busy": "2023-11-03T01:24:50.675014Z",
     "iopub.status.idle": "2023-11-03T01:24:50.684052Z",
     "shell.execute_reply": "2023-11-03T01:24:50.683234Z"
    },
    "papermill": {
     "duration": 0.023136,
     "end_time": "2023-11-03T01:24:50.686321",
     "exception": false,
     "start_time": "2023-11-03T01:24:50.663185",
     "status": "completed"
    },
    "tags": []
   },
   "outputs": [
    {
     "name": "stdout",
     "output_type": "stream",
     "text": [
      "<class 'pandas.core.frame.DataFrame'>\n",
      "Index: 1798980 entries, 0 to 1798982\n",
      "Data columns (total 3 columns):\n",
      " #   Column      Dtype  \n",
      "---  ------      -----  \n",
      " 0   ClienteID   int64  \n",
      " 1   ArticuloID  int64  \n",
      " 2   Cantidad    float64\n",
      "dtypes: float64(1), int64(2)\n",
      "memory usage: 54.9 MB\n"
     ]
    }
   ],
   "source": [
    "df_purchases.info()"
   ]
  },
  {
   "cell_type": "code",
   "execution_count": 25,
   "id": "131698ac",
   "metadata": {
    "execution": {
     "iopub.execute_input": "2023-11-03T01:24:50.750096Z",
     "iopub.status.busy": "2023-11-03T01:24:50.749736Z",
     "iopub.status.idle": "2023-11-03T01:24:50.762875Z",
     "shell.execute_reply": "2023-11-03T01:24:50.762042Z"
    },
    "papermill": {
     "duration": 0.027434,
     "end_time": "2023-11-03T01:24:50.764780",
     "exception": false,
     "start_time": "2023-11-03T01:24:50.737346",
     "status": "completed"
    },
    "tags": []
   },
   "outputs": [
    {
     "data": {
      "text/html": [
       "<div>\n",
       "<style scoped>\n",
       "    .dataframe tbody tr th:only-of-type {\n",
       "        vertical-align: middle;\n",
       "    }\n",
       "\n",
       "    .dataframe tbody tr th {\n",
       "        vertical-align: top;\n",
       "    }\n",
       "\n",
       "    .dataframe thead th {\n",
       "        text-align: right;\n",
       "    }\n",
       "</style>\n",
       "<table border=\"1\" class=\"dataframe\">\n",
       "  <thead>\n",
       "    <tr style=\"text-align: right;\">\n",
       "      <th></th>\n",
       "      <th>ClienteID</th>\n",
       "      <th>ArticuloID</th>\n",
       "      <th>Cantidad</th>\n",
       "    </tr>\n",
       "  </thead>\n",
       "  <tbody>\n",
       "    <tr>\n",
       "      <th>0</th>\n",
       "      <td>6998</td>\n",
       "      <td>55001</td>\n",
       "      <td>10.0</td>\n",
       "    </tr>\n",
       "    <tr>\n",
       "      <th>1</th>\n",
       "      <td>6998</td>\n",
       "      <td>50635222</td>\n",
       "      <td>4.0</td>\n",
       "    </tr>\n",
       "    <tr>\n",
       "      <th>2</th>\n",
       "      <td>454</td>\n",
       "      <td>610706</td>\n",
       "      <td>1.0</td>\n",
       "    </tr>\n",
       "    <tr>\n",
       "      <th>3</th>\n",
       "      <td>454</td>\n",
       "      <td>610701</td>\n",
       "      <td>5.0</td>\n",
       "    </tr>\n",
       "    <tr>\n",
       "      <th>4</th>\n",
       "      <td>454</td>\n",
       "      <td>372840</td>\n",
       "      <td>1.0</td>\n",
       "    </tr>\n",
       "    <tr>\n",
       "      <th>...</th>\n",
       "      <td>...</td>\n",
       "      <td>...</td>\n",
       "      <td>...</td>\n",
       "    </tr>\n",
       "    <tr>\n",
       "      <th>1798978</th>\n",
       "      <td>1896</td>\n",
       "      <td>153003</td>\n",
       "      <td>5.0</td>\n",
       "    </tr>\n",
       "    <tr>\n",
       "      <th>1798979</th>\n",
       "      <td>1595</td>\n",
       "      <td>94214</td>\n",
       "      <td>100.0</td>\n",
       "    </tr>\n",
       "    <tr>\n",
       "      <th>1798980</th>\n",
       "      <td>1403</td>\n",
       "      <td>12151</td>\n",
       "      <td>10.0</td>\n",
       "    </tr>\n",
       "    <tr>\n",
       "      <th>1798981</th>\n",
       "      <td>1317</td>\n",
       "      <td>701501</td>\n",
       "      <td>1500.0</td>\n",
       "    </tr>\n",
       "    <tr>\n",
       "      <th>1798982</th>\n",
       "      <td>1317</td>\n",
       "      <td>701601</td>\n",
       "      <td>1000.0</td>\n",
       "    </tr>\n",
       "  </tbody>\n",
       "</table>\n",
       "<p>1798980 rows × 3 columns</p>\n",
       "</div>"
      ],
      "text/plain": [
       "         ClienteID  ArticuloID  Cantidad\n",
       "0             6998       55001      10.0\n",
       "1             6998    50635222       4.0\n",
       "2              454      610706       1.0\n",
       "3              454      610701       5.0\n",
       "4              454      372840       1.0\n",
       "...            ...         ...       ...\n",
       "1798978       1896      153003       5.0\n",
       "1798979       1595       94214     100.0\n",
       "1798980       1403       12151      10.0\n",
       "1798981       1317      701501    1500.0\n",
       "1798982       1317      701601    1000.0\n",
       "\n",
       "[1798980 rows x 3 columns]"
      ]
     },
     "execution_count": 25,
     "metadata": {},
     "output_type": "execute_result"
    }
   ],
   "source": [
    "df_purchases"
   ]
  },
  {
   "cell_type": "code",
   "execution_count": null,
   "id": "60f5b42c",
   "metadata": {
    "papermill": {
     "duration": 0.011122,
     "end_time": "2023-11-03T01:24:50.786792",
     "exception": false,
     "start_time": "2023-11-03T01:24:50.775670",
     "status": "completed"
    },
    "tags": []
   },
   "outputs": [],
   "source": []
  }
 ],
 "metadata": {
  "kernelspec": {
   "display_name": "Python 3",
   "language": "python",
   "name": "python3"
  },
  "language_info": {
   "codemirror_mode": {
    "name": "ipython",
    "version": 3
   },
   "file_extension": ".py",
   "mimetype": "text/x-python",
   "name": "python",
   "nbconvert_exporter": "python",
   "pygments_lexer": "ipython3",
   "version": "3.10.12"
  },
  "papermill": {
   "default_parameters": {},
   "duration": 30.249686,
   "end_time": "2023-11-03T01:24:53.818286",
   "environment_variables": {},
   "exception": null,
   "input_path": "__notebook__.ipynb",
   "output_path": "__notebook__.ipynb",
   "parameters": {},
   "start_time": "2023-11-03T01:24:23.568600",
   "version": "2.4.0"
  }
 },
 "nbformat": 4,
 "nbformat_minor": 5
}
