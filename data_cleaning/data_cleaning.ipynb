{
 "cells": [
  {
   "cell_type": "code",
   "execution_count": 1,
   "id": "c4f8a418",
   "metadata": {
    "_cell_guid": "b1076dfc-b9ad-4769-8c92-a6c4dae69d19",
    "_uuid": "8f2839f25d086af736a60e9eeb907d3b93b6e0e5",
    "execution": {
     "iopub.execute_input": "2023-11-03T01:33:45.754228Z",
     "iopub.status.busy": "2023-11-03T01:33:45.753908Z",
     "iopub.status.idle": "2023-11-03T01:33:46.434382Z",
     "shell.execute_reply": "2023-11-03T01:33:46.433440Z"
    },
    "papermill": {
     "duration": 0.691974,
     "end_time": "2023-11-03T01:33:46.436514",
     "exception": false,
     "start_time": "2023-11-03T01:33:45.744540",
     "status": "completed"
    },
    "tags": []
   },
   "outputs": [
    {
     "name": "stdout",
     "output_type": "stream",
     "text": [
      "/kaggle/input/local-datasets/purchase_history.csv\n",
      "/kaggle/input/local-datasets/data_users.csv\n",
      "/kaggle/input/local-datasets/data_items.csv\n"
     ]
    }
   ],
   "source": [
    "# This Python 3 environment comes with many helpful analytics libraries installed\n",
    "# It is defined by the kaggle/python Docker image: https://github.com/kaggle/docker-python\n",
    "# For example, here's several helpful packages to load\n",
    "\n",
    "import numpy as np # linear algebra\n",
    "import pandas as pd # data processing, CSV file I/O (e.g. pd.read_csv)\n",
    "\n",
    "# Input data files are available in the read-only \"../input/\" directory\n",
    "# For example, running this (by clicking run or pressing Shift+Enter) will list all files under the input directory\n",
    "\n",
    "import os\n",
    "for dirname, _, filenames in os.walk('/kaggle/input'):\n",
    "    for filename in filenames:\n",
    "        print(os.path.join(dirname, filename))\n",
    "\n",
    "# You can write up to 20GB to the current directory (/kaggle/working/) that gets preserved as output when you create a version using \"Save & Run All\" \n",
    "# You can also write temporary files to /kaggle/temp/, but they won't be saved outside of the current session"
   ]
  },
  {
   "cell_type": "markdown",
   "id": "45d489fd",
   "metadata": {
    "papermill": {
     "duration": 0.00758,
     "end_time": "2023-11-03T01:33:46.452853",
     "exception": false,
     "start_time": "2023-11-03T01:33:46.445273",
     "status": "completed"
    },
    "tags": []
   },
   "source": [
    "# Importing Tools"
   ]
  },
  {
   "cell_type": "code",
   "execution_count": 2,
   "id": "fe58c880",
   "metadata": {
    "execution": {
     "iopub.execute_input": "2023-11-03T01:33:46.469744Z",
     "iopub.status.busy": "2023-11-03T01:33:46.469357Z",
     "iopub.status.idle": "2023-11-03T01:33:54.707008Z",
     "shell.execute_reply": "2023-11-03T01:33:54.706018Z"
    },
    "papermill": {
     "duration": 8.248978,
     "end_time": "2023-11-03T01:33:54.709610",
     "exception": false,
     "start_time": "2023-11-03T01:33:46.460632",
     "status": "completed"
    },
    "tags": []
   },
   "outputs": [
    {
     "name": "stderr",
     "output_type": "stream",
     "text": [
      "/opt/conda/lib/python3.10/site-packages/scipy/__init__.py:146: UserWarning: A NumPy version >=1.16.5 and <1.23.0 is required for this version of SciPy (detected version 1.23.5\n",
      "  warnings.warn(f\"A NumPy version >={np_minversion} and <{np_maxversion}\"\n"
     ]
    }
   ],
   "source": [
    "import pandas as pd\n",
    "import numpy as np\n",
    "\n",
    "import tensorflow as tf\n",
    "\n",
    "import matplotlib.pyplot as plt\n",
    "import seaborn as sns\n",
    "from PIL import Image"
   ]
  },
  {
   "cell_type": "markdown",
   "id": "f9843fd4",
   "metadata": {
    "papermill": {
     "duration": 0.008193,
     "end_time": "2023-11-03T01:33:54.726589",
     "exception": false,
     "start_time": "2023-11-03T01:33:54.718396",
     "status": "completed"
    },
    "tags": []
   },
   "source": [
    "# Cleaning Data"
   ]
  },
  {
   "cell_type": "code",
   "execution_count": 3,
   "id": "41a5ad36",
   "metadata": {
    "execution": {
     "iopub.execute_input": "2023-11-03T01:33:54.744998Z",
     "iopub.status.busy": "2023-11-03T01:33:54.744046Z",
     "iopub.status.idle": "2023-11-03T01:33:55.600133Z",
     "shell.execute_reply": "2023-11-03T01:33:55.599249Z"
    },
    "papermill": {
     "duration": 0.867897,
     "end_time": "2023-11-03T01:33:55.602957",
     "exception": false,
     "start_time": "2023-11-03T01:33:54.735060",
     "status": "completed"
    },
    "tags": []
   },
   "outputs": [
    {
     "name": "stdout",
     "output_type": "stream",
     "text": [
      "All right\n"
     ]
    },
    {
     "name": "stderr",
     "output_type": "stream",
     "text": [
      "/tmp/ipykernel_27/4010311179.py:1: DtypeWarning: Columns (1) have mixed types. Specify dtype option on import or set low_memory=False.\n",
      "  df_purchases = pd.read_csv('/kaggle/input/local-datasets/purchase_history.csv')\n"
     ]
    }
   ],
   "source": [
    "df_purchases = pd.read_csv('/kaggle/input/local-datasets/purchase_history.csv')\n",
    "df_users = pd.read_csv('/kaggle/input/local-datasets/data_users.csv')\n",
    "df_items = pd.read_csv('/kaggle/input/local-datasets/data_items.csv')\n",
    "\n",
    "def remove_unnamed_column(df):\n",
    "    df.drop(columns=['Unnamed: 0'], inplace=True) if 'Unnamed: 0' in df.columns else print('All right')\n",
    "        \n",
    "remove_unnamed_column(df_purchases)\n",
    "remove_unnamed_column(df_users)\n",
    "remove_unnamed_column(df_items)"
   ]
  },
  {
   "cell_type": "markdown",
   "id": "a87e1b7e",
   "metadata": {
    "papermill": {
     "duration": 0.008044,
     "end_time": "2023-11-03T01:33:55.619376",
     "exception": false,
     "start_time": "2023-11-03T01:33:55.611332",
     "status": "completed"
    },
    "tags": []
   },
   "source": [
    "### Users"
   ]
  },
  {
   "cell_type": "code",
   "execution_count": 4,
   "id": "0ea75c09",
   "metadata": {
    "execution": {
     "iopub.execute_input": "2023-11-03T01:33:55.636777Z",
     "iopub.status.busy": "2023-11-03T01:33:55.636500Z",
     "iopub.status.idle": "2023-11-03T01:33:55.652541Z",
     "shell.execute_reply": "2023-11-03T01:33:55.651636Z"
    },
    "papermill": {
     "duration": 0.027212,
     "end_time": "2023-11-03T01:33:55.654535",
     "exception": false,
     "start_time": "2023-11-03T01:33:55.627323",
     "status": "completed"
    },
    "tags": []
   },
   "outputs": [
    {
     "data": {
      "text/html": [
       "<div>\n",
       "<style scoped>\n",
       "    .dataframe tbody tr th:only-of-type {\n",
       "        vertical-align: middle;\n",
       "    }\n",
       "\n",
       "    .dataframe tbody tr th {\n",
       "        vertical-align: top;\n",
       "    }\n",
       "\n",
       "    .dataframe thead th {\n",
       "        text-align: right;\n",
       "    }\n",
       "</style>\n",
       "<table border=\"1\" class=\"dataframe\">\n",
       "  <thead>\n",
       "    <tr style=\"text-align: right;\">\n",
       "      <th></th>\n",
       "      <th>CodCliente</th>\n",
       "      <th>CodigoPostal</th>\n",
       "      <th>Vendedor</th>\n",
       "      <th>Zona</th>\n",
       "      <th>LimiteCredito</th>\n",
       "    </tr>\n",
       "  </thead>\n",
       "  <tbody>\n",
       "    <tr>\n",
       "      <th>0</th>\n",
       "      <td>1</td>\n",
       "      <td>51892</td>\n",
       "      <td>14</td>\n",
       "      <td>30</td>\n",
       "      <td>91815.00</td>\n",
       "    </tr>\n",
       "    <tr>\n",
       "      <th>1</th>\n",
       "      <td>2</td>\n",
       "      <td>57000</td>\n",
       "      <td>6</td>\n",
       "      <td>93</td>\n",
       "      <td>15264.00</td>\n",
       "    </tr>\n",
       "    <tr>\n",
       "      <th>2</th>\n",
       "      <td>3</td>\n",
       "      <td>16271</td>\n",
       "      <td>2</td>\n",
       "      <td>43</td>\n",
       "      <td>8322.65</td>\n",
       "    </tr>\n",
       "    <tr>\n",
       "      <th>3</th>\n",
       "      <td>4</td>\n",
       "      <td>5800</td>\n",
       "      <td>10</td>\n",
       "      <td>1</td>\n",
       "      <td>1.00</td>\n",
       "    </tr>\n",
       "    <tr>\n",
       "      <th>4</th>\n",
       "      <td>5</td>\n",
       "      <td>5194</td>\n",
       "      <td>13</td>\n",
       "      <td>32</td>\n",
       "      <td>1.00</td>\n",
       "    </tr>\n",
       "    <tr>\n",
       "      <th>...</th>\n",
       "      <td>...</td>\n",
       "      <td>...</td>\n",
       "      <td>...</td>\n",
       "      <td>...</td>\n",
       "      <td>...</td>\n",
       "    </tr>\n",
       "    <tr>\n",
       "      <th>3021</th>\n",
       "      <td>100067</td>\n",
       "      <td>5805</td>\n",
       "      <td>9</td>\n",
       "      <td>100</td>\n",
       "      <td>0.00</td>\n",
       "    </tr>\n",
       "    <tr>\n",
       "      <th>3022</th>\n",
       "      <td>100080</td>\n",
       "      <td>5847</td>\n",
       "      <td>9</td>\n",
       "      <td>1</td>\n",
       "      <td>0.00</td>\n",
       "    </tr>\n",
       "    <tr>\n",
       "      <th>3023</th>\n",
       "      <td>100748</td>\n",
       "      <td>5800</td>\n",
       "      <td>3</td>\n",
       "      <td>50</td>\n",
       "      <td>68524.49</td>\n",
       "    </tr>\n",
       "    <tr>\n",
       "      <th>3024</th>\n",
       "      <td>100749</td>\n",
       "      <td>5800</td>\n",
       "      <td>3</td>\n",
       "      <td>50</td>\n",
       "      <td>1.00</td>\n",
       "    </tr>\n",
       "    <tr>\n",
       "      <th>3025</th>\n",
       "      <td>100750</td>\n",
       "      <td>5800</td>\n",
       "      <td>3</td>\n",
       "      <td>51</td>\n",
       "      <td>1.00</td>\n",
       "    </tr>\n",
       "  </tbody>\n",
       "</table>\n",
       "<p>3026 rows × 5 columns</p>\n",
       "</div>"
      ],
      "text/plain": [
       "      CodCliente  CodigoPostal  Vendedor  Zona  LimiteCredito\n",
       "0              1         51892        14    30       91815.00\n",
       "1              2         57000         6    93       15264.00\n",
       "2              3         16271         2    43        8322.65\n",
       "3              4          5800        10     1           1.00\n",
       "4              5          5194        13    32           1.00\n",
       "...          ...           ...       ...   ...            ...\n",
       "3021      100067          5805         9   100           0.00\n",
       "3022      100080          5847         9     1           0.00\n",
       "3023      100748          5800         3    50       68524.49\n",
       "3024      100749          5800         3    50           1.00\n",
       "3025      100750          5800         3    51           1.00\n",
       "\n",
       "[3026 rows x 5 columns]"
      ]
     },
     "execution_count": 4,
     "metadata": {},
     "output_type": "execute_result"
    }
   ],
   "source": [
    "df_users"
   ]
  },
  {
   "cell_type": "code",
   "execution_count": 5,
   "id": "88c7830d",
   "metadata": {
    "execution": {
     "iopub.execute_input": "2023-11-03T01:33:55.672319Z",
     "iopub.status.busy": "2023-11-03T01:33:55.672040Z",
     "iopub.status.idle": "2023-11-03T01:33:55.676573Z",
     "shell.execute_reply": "2023-11-03T01:33:55.675719Z"
    },
    "papermill": {
     "duration": 0.015539,
     "end_time": "2023-11-03T01:33:55.678600",
     "exception": false,
     "start_time": "2023-11-03T01:33:55.663061",
     "status": "completed"
    },
    "tags": []
   },
   "outputs": [],
   "source": [
    "df_users.rename(columns={'CodCliente':'ClienteID'}, inplace=True)"
   ]
  },
  {
   "cell_type": "code",
   "execution_count": 6,
   "id": "145a58c6",
   "metadata": {
    "execution": {
     "iopub.execute_input": "2023-11-03T01:33:55.696234Z",
     "iopub.status.busy": "2023-11-03T01:33:55.695959Z",
     "iopub.status.idle": "2023-11-03T01:33:55.713409Z",
     "shell.execute_reply": "2023-11-03T01:33:55.712108Z"
    },
    "papermill": {
     "duration": 0.028438,
     "end_time": "2023-11-03T01:33:55.715319",
     "exception": false,
     "start_time": "2023-11-03T01:33:55.686881",
     "status": "completed"
    },
    "tags": []
   },
   "outputs": [
    {
     "name": "stdout",
     "output_type": "stream",
     "text": [
      "<class 'pandas.core.frame.DataFrame'>\n",
      "RangeIndex: 3026 entries, 0 to 3025\n",
      "Data columns (total 5 columns):\n",
      " #   Column         Non-Null Count  Dtype  \n",
      "---  ------         --------------  -----  \n",
      " 0   ClienteID      3026 non-null   int64  \n",
      " 1   CodigoPostal   3026 non-null   int64  \n",
      " 2   Vendedor       3026 non-null   int64  \n",
      " 3   Zona           3026 non-null   int64  \n",
      " 4   LimiteCredito  3026 non-null   float64\n",
      "dtypes: float64(1), int64(4)\n",
      "memory usage: 118.3 KB\n"
     ]
    }
   ],
   "source": [
    "df_users.info()"
   ]
  },
  {
   "cell_type": "code",
   "execution_count": 7,
   "id": "560dcfac",
   "metadata": {
    "execution": {
     "iopub.execute_input": "2023-11-03T01:33:55.733086Z",
     "iopub.status.busy": "2023-11-03T01:33:55.732832Z",
     "iopub.status.idle": "2023-11-03T01:33:55.739880Z",
     "shell.execute_reply": "2023-11-03T01:33:55.739190Z"
    },
    "papermill": {
     "duration": 0.018093,
     "end_time": "2023-11-03T01:33:55.741829",
     "exception": false,
     "start_time": "2023-11-03T01:33:55.723736",
     "status": "completed"
    },
    "tags": []
   },
   "outputs": [
    {
     "data": {
      "text/plain": [
       "ClienteID        0\n",
       "CodigoPostal     0\n",
       "Vendedor         0\n",
       "Zona             0\n",
       "LimiteCredito    0\n",
       "dtype: int64"
      ]
     },
     "execution_count": 7,
     "metadata": {},
     "output_type": "execute_result"
    }
   ],
   "source": [
    "df_users.isnull().sum()"
   ]
  },
  {
   "cell_type": "code",
   "execution_count": 8,
   "id": "d66a6786",
   "metadata": {
    "execution": {
     "iopub.execute_input": "2023-11-03T01:33:55.760278Z",
     "iopub.status.busy": "2023-11-03T01:33:55.759991Z",
     "iopub.status.idle": "2023-11-03T01:33:55.769504Z",
     "shell.execute_reply": "2023-11-03T01:33:55.768679Z"
    },
    "papermill": {
     "duration": 0.020587,
     "end_time": "2023-11-03T01:33:55.771386",
     "exception": false,
     "start_time": "2023-11-03T01:33:55.750799",
     "status": "completed"
    },
    "tags": []
   },
   "outputs": [
    {
     "data": {
      "text/plain": [
       "False    3026\n",
       "Name: count, dtype: int64"
      ]
     },
     "execution_count": 8,
     "metadata": {},
     "output_type": "execute_result"
    }
   ],
   "source": [
    "duplicates = df_users.duplicated()\n",
    "duplicates.value_counts()"
   ]
  },
  {
   "cell_type": "markdown",
   "id": "0db22f03",
   "metadata": {
    "papermill": {
     "duration": 0.008308,
     "end_time": "2023-11-03T01:33:55.788468",
     "exception": false,
     "start_time": "2023-11-03T01:33:55.780160",
     "status": "completed"
    },
    "tags": []
   },
   "source": [
    "### Items"
   ]
  },
  {
   "cell_type": "code",
   "execution_count": 9,
   "id": "d422bb41",
   "metadata": {
    "execution": {
     "iopub.execute_input": "2023-11-03T01:33:55.806631Z",
     "iopub.status.busy": "2023-11-03T01:33:55.806367Z",
     "iopub.status.idle": "2023-11-03T01:33:55.820740Z",
     "shell.execute_reply": "2023-11-03T01:33:55.819877Z"
    },
    "papermill": {
     "duration": 0.025793,
     "end_time": "2023-11-03T01:33:55.822747",
     "exception": false,
     "start_time": "2023-11-03T01:33:55.796954",
     "status": "completed"
    },
    "tags": []
   },
   "outputs": [
    {
     "data": {
      "text/html": [
       "<div>\n",
       "<style scoped>\n",
       "    .dataframe tbody tr th:only-of-type {\n",
       "        vertical-align: middle;\n",
       "    }\n",
       "\n",
       "    .dataframe tbody tr th {\n",
       "        vertical-align: top;\n",
       "    }\n",
       "\n",
       "    .dataframe thead th {\n",
       "        text-align: right;\n",
       "    }\n",
       "</style>\n",
       "<table border=\"1\" class=\"dataframe\">\n",
       "  <thead>\n",
       "    <tr style=\"text-align: right;\">\n",
       "      <th></th>\n",
       "      <th>CodArticu</th>\n",
       "      <th>PrecioCosto</th>\n",
       "      <th>ArticuloPatron</th>\n",
       "      <th>PrecioUnitario</th>\n",
       "    </tr>\n",
       "  </thead>\n",
       "  <tbody>\n",
       "    <tr>\n",
       "      <th>0</th>\n",
       "      <td>10001</td>\n",
       "      <td>3532.0000</td>\n",
       "      <td>CALENTADOR.EVERS</td>\n",
       "      <td>3532.0000</td>\n",
       "    </tr>\n",
       "    <tr>\n",
       "      <th>1</th>\n",
       "      <td>10002</td>\n",
       "      <td>3684.0000</td>\n",
       "      <td>CALENTADOR.EVERS</td>\n",
       "      <td>3684.0000</td>\n",
       "    </tr>\n",
       "    <tr>\n",
       "      <th>2</th>\n",
       "      <td>1001</td>\n",
       "      <td>62.2725</td>\n",
       "      <td>DESTAPA.CAÑERIAS</td>\n",
       "      <td>62.2725</td>\n",
       "    </tr>\n",
       "    <tr>\n",
       "      <th>3</th>\n",
       "      <td>10011</td>\n",
       "      <td>3517.0000</td>\n",
       "      <td>ESTUFA.CUARZO</td>\n",
       "      <td>3517.0000</td>\n",
       "    </tr>\n",
       "    <tr>\n",
       "      <th>4</th>\n",
       "      <td>10013</td>\n",
       "      <td>785.8500</td>\n",
       "      <td>CORTA.VIDRIO</td>\n",
       "      <td>785.8500</td>\n",
       "    </tr>\n",
       "    <tr>\n",
       "      <th>...</th>\n",
       "      <td>...</td>\n",
       "      <td>...</td>\n",
       "      <td>...</td>\n",
       "      <td>...</td>\n",
       "    </tr>\n",
       "    <tr>\n",
       "      <th>9750</th>\n",
       "      <td>999999</td>\n",
       "      <td>2276.5740</td>\n",
       "      <td>EXHIBIDORES</td>\n",
       "      <td>2276.5740</td>\n",
       "    </tr>\n",
       "    <tr>\n",
       "      <th>9751</th>\n",
       "      <td>FLETE</td>\n",
       "      <td>0.0000</td>\n",
       "      <td>GENERICO</td>\n",
       "      <td>0.0000</td>\n",
       "    </tr>\n",
       "    <tr>\n",
       "      <th>9752</th>\n",
       "      <td>OTROLADO</td>\n",
       "      <td>0.0000</td>\n",
       "      <td>GENERICO</td>\n",
       "      <td>0.0000</td>\n",
       "    </tr>\n",
       "    <tr>\n",
       "      <th>9753</th>\n",
       "      <td>PRUEBA2</td>\n",
       "      <td>1.1800</td>\n",
       "      <td>GENERICO</td>\n",
       "      <td>1.1800</td>\n",
       "    </tr>\n",
       "    <tr>\n",
       "      <th>9754</th>\n",
       "      <td>REDONDEO</td>\n",
       "      <td>0.0000</td>\n",
       "      <td>GENERICO</td>\n",
       "      <td>0.0000</td>\n",
       "    </tr>\n",
       "  </tbody>\n",
       "</table>\n",
       "<p>9755 rows × 4 columns</p>\n",
       "</div>"
      ],
      "text/plain": [
       "     CodArticu  PrecioCosto        ArticuloPatron  PrecioUnitario\n",
       "0        10001    3532.0000  CALENTADOR.EVERS           3532.0000\n",
       "1        10002    3684.0000  CALENTADOR.EVERS           3684.0000\n",
       "2         1001      62.2725  DESTAPA.CAÑERIAS             62.2725\n",
       "3        10011    3517.0000  ESTUFA.CUARZO              3517.0000\n",
       "4        10013     785.8500  CORTA.VIDRIO                785.8500\n",
       "...        ...          ...                   ...             ...\n",
       "9750    999999    2276.5740  EXHIBIDORES                2276.5740\n",
       "9751     FLETE       0.0000  GENERICO                      0.0000\n",
       "9752  OTROLADO       0.0000  GENERICO                      0.0000\n",
       "9753   PRUEBA2       1.1800  GENERICO                      1.1800\n",
       "9754  REDONDEO       0.0000  GENERICO                      0.0000\n",
       "\n",
       "[9755 rows x 4 columns]"
      ]
     },
     "execution_count": 9,
     "metadata": {},
     "output_type": "execute_result"
    }
   ],
   "source": [
    "df_items"
   ]
  },
  {
   "cell_type": "code",
   "execution_count": 10,
   "id": "6d1bca88",
   "metadata": {
    "execution": {
     "iopub.execute_input": "2023-11-03T01:33:55.841843Z",
     "iopub.status.busy": "2023-11-03T01:33:55.841576Z",
     "iopub.status.idle": "2023-11-03T01:33:55.845878Z",
     "shell.execute_reply": "2023-11-03T01:33:55.845013Z"
    },
    "papermill": {
     "duration": 0.015832,
     "end_time": "2023-11-03T01:33:55.847755",
     "exception": false,
     "start_time": "2023-11-03T01:33:55.831923",
     "status": "completed"
    },
    "tags": []
   },
   "outputs": [],
   "source": [
    "df_items.rename(columns={'CodArticu':'ArticuloID'}, inplace=True)"
   ]
  },
  {
   "cell_type": "code",
   "execution_count": 11,
   "id": "5b6513d2",
   "metadata": {
    "execution": {
     "iopub.execute_input": "2023-11-03T01:33:55.867160Z",
     "iopub.status.busy": "2023-11-03T01:33:55.866234Z",
     "iopub.status.idle": "2023-11-03T01:33:55.878564Z",
     "shell.execute_reply": "2023-11-03T01:33:55.877365Z"
    },
    "papermill": {
     "duration": 0.024,
     "end_time": "2023-11-03T01:33:55.880669",
     "exception": false,
     "start_time": "2023-11-03T01:33:55.856669",
     "status": "completed"
    },
    "tags": []
   },
   "outputs": [
    {
     "name": "stdout",
     "output_type": "stream",
     "text": [
      "<class 'pandas.core.frame.DataFrame'>\n",
      "RangeIndex: 9755 entries, 0 to 9754\n",
      "Data columns (total 4 columns):\n",
      " #   Column          Non-Null Count  Dtype  \n",
      "---  ------          --------------  -----  \n",
      " 0   ArticuloID      9755 non-null   object \n",
      " 1   PrecioCosto     9755 non-null   float64\n",
      " 2   ArticuloPatron  9755 non-null   object \n",
      " 3   PrecioUnitario  9755 non-null   float64\n",
      "dtypes: float64(2), object(2)\n",
      "memory usage: 305.0+ KB\n"
     ]
    }
   ],
   "source": [
    "df_items.info()"
   ]
  },
  {
   "cell_type": "code",
   "execution_count": 12,
   "id": "b143e665",
   "metadata": {
    "execution": {
     "iopub.execute_input": "2023-11-03T01:33:55.899729Z",
     "iopub.status.busy": "2023-11-03T01:33:55.899473Z",
     "iopub.status.idle": "2023-11-03T01:33:55.907715Z",
     "shell.execute_reply": "2023-11-03T01:33:55.906937Z"
    },
    "papermill": {
     "duration": 0.019863,
     "end_time": "2023-11-03T01:33:55.909633",
     "exception": false,
     "start_time": "2023-11-03T01:33:55.889770",
     "status": "completed"
    },
    "tags": []
   },
   "outputs": [
    {
     "data": {
      "text/plain": [
       "ArticuloID        0\n",
       "PrecioCosto       0\n",
       "ArticuloPatron    0\n",
       "PrecioUnitario    0\n",
       "dtype: int64"
      ]
     },
     "execution_count": 12,
     "metadata": {},
     "output_type": "execute_result"
    }
   ],
   "source": [
    "df_items.isnull().sum()"
   ]
  },
  {
   "cell_type": "code",
   "execution_count": 13,
   "id": "25fbe881",
   "metadata": {
    "execution": {
     "iopub.execute_input": "2023-11-03T01:33:55.929533Z",
     "iopub.status.busy": "2023-11-03T01:33:55.929288Z",
     "iopub.status.idle": "2023-11-03T01:33:55.938105Z",
     "shell.execute_reply": "2023-11-03T01:33:55.937307Z"
    },
    "papermill": {
     "duration": 0.020849,
     "end_time": "2023-11-03T01:33:55.940433",
     "exception": false,
     "start_time": "2023-11-03T01:33:55.919584",
     "status": "completed"
    },
    "tags": []
   },
   "outputs": [
    {
     "data": {
      "text/plain": [
       "ArticuloPatron\n",
       "BULON.CAB.HEXAGONAL     142\n",
       "ESM.SINT.QUIMEX         135\n",
       "AEROSOL.KUWAIT          133\n",
       "ESM.SINT.KAWA            82\n",
       "AEROSOL.TE-BOND          78\n",
       "                       ... \n",
       "PASADOR.CANBER.ARRIM      1\n",
       "INGCO.PINZA.SACABOCA      1\n",
       "INGCO.PUNTA.HEXAGONA      1\n",
       "INGCO.CINCEL.HEXAGON      1\n",
       "GANCHO.SOGA.ELASTIC       1\n",
       "Name: count, Length: 1536, dtype: int64"
      ]
     },
     "execution_count": 13,
     "metadata": {},
     "output_type": "execute_result"
    }
   ],
   "source": [
    "df_items['ArticuloPatron'].value_counts()"
   ]
  },
  {
   "cell_type": "code",
   "execution_count": 14,
   "id": "49137aaf",
   "metadata": {
    "execution": {
     "iopub.execute_input": "2023-11-03T01:33:55.959828Z",
     "iopub.status.busy": "2023-11-03T01:33:55.959589Z",
     "iopub.status.idle": "2023-11-03T01:33:55.971459Z",
     "shell.execute_reply": "2023-11-03T01:33:55.970698Z"
    },
    "papermill": {
     "duration": 0.023787,
     "end_time": "2023-11-03T01:33:55.973323",
     "exception": false,
     "start_time": "2023-11-03T01:33:55.949536",
     "status": "completed"
    },
    "tags": []
   },
   "outputs": [
    {
     "data": {
      "text/plain": [
       "ArticuloID\n",
       "10001       1\n",
       "65494       1\n",
       "6541042     1\n",
       "6541050     1\n",
       "6541263     1\n",
       "           ..\n",
       "366617      1\n",
       "366618      1\n",
       "366619      1\n",
       "366620      1\n",
       "REDONDEO    1\n",
       "Name: count, Length: 9755, dtype: int64"
      ]
     },
     "execution_count": 14,
     "metadata": {},
     "output_type": "execute_result"
    }
   ],
   "source": [
    "df_items['ArticuloID'].value_counts()"
   ]
  },
  {
   "cell_type": "code",
   "execution_count": 15,
   "id": "8be526b3",
   "metadata": {
    "execution": {
     "iopub.execute_input": "2023-11-03T01:33:55.992977Z",
     "iopub.status.busy": "2023-11-03T01:33:55.992735Z",
     "iopub.status.idle": "2023-11-03T01:33:56.010864Z",
     "shell.execute_reply": "2023-11-03T01:33:56.009844Z"
    },
    "papermill": {
     "duration": 0.030785,
     "end_time": "2023-11-03T01:33:56.013472",
     "exception": false,
     "start_time": "2023-11-03T01:33:55.982687",
     "status": "completed"
    },
    "tags": []
   },
   "outputs": [
    {
     "name": "stdout",
     "output_type": "stream",
     "text": [
      "     ArticuloID  PrecioCosto        ArticuloPatron  PrecioUnitario\n",
      "9751      FLETE         0.00  GENERICO                        0.00\n",
      "9752   OTROLADO         0.00  GENERICO                        0.00\n",
      "9753    PRUEBA2         1.18  GENERICO                        1.18\n",
      "9754   REDONDEO         0.00  GENERICO                        0.00\n"
     ]
    },
    {
     "name": "stderr",
     "output_type": "stream",
     "text": [
      "/tmp/ipykernel_27/3514840010.py:8: SettingWithCopyWarning: \n",
      "A value is trying to be set on a copy of a slice from a DataFrame.\n",
      "Try using .loc[row_indexer,col_indexer] = value instead\n",
      "\n",
      "See the caveats in the documentation: https://pandas.pydata.org/pandas-docs/stable/user_guide/indexing.html#returning-a-view-versus-a-copy\n",
      "  df_items['ArticuloID'] = df_items['ArticuloID'].astype('int64')\n"
     ]
    }
   ],
   "source": [
    "mask = df_items['ArticuloID'].str.contains('[a-zA-Z]', na=False)\n",
    "\n",
    "rows_with_words = df_items[mask]\n",
    "\n",
    "print(rows_with_words)\n",
    "\n",
    "df_items = df_items[~mask]\n",
    "df_items['ArticuloID'] = df_items['ArticuloID'].astype('int64')"
   ]
  },
  {
   "cell_type": "code",
   "execution_count": 16,
   "id": "f8f7fc3b",
   "metadata": {
    "execution": {
     "iopub.execute_input": "2023-11-03T01:33:56.034878Z",
     "iopub.status.busy": "2023-11-03T01:33:56.034234Z",
     "iopub.status.idle": "2023-11-03T01:33:56.047019Z",
     "shell.execute_reply": "2023-11-03T01:33:56.046209Z"
    },
    "papermill": {
     "duration": 0.025479,
     "end_time": "2023-11-03T01:33:56.048971",
     "exception": false,
     "start_time": "2023-11-03T01:33:56.023492",
     "status": "completed"
    },
    "tags": []
   },
   "outputs": [
    {
     "data": {
      "text/html": [
       "<div>\n",
       "<style scoped>\n",
       "    .dataframe tbody tr th:only-of-type {\n",
       "        vertical-align: middle;\n",
       "    }\n",
       "\n",
       "    .dataframe tbody tr th {\n",
       "        vertical-align: top;\n",
       "    }\n",
       "\n",
       "    .dataframe thead th {\n",
       "        text-align: right;\n",
       "    }\n",
       "</style>\n",
       "<table border=\"1\" class=\"dataframe\">\n",
       "  <thead>\n",
       "    <tr style=\"text-align: right;\">\n",
       "      <th></th>\n",
       "      <th>ArticuloID</th>\n",
       "      <th>PrecioCosto</th>\n",
       "      <th>ArticuloPatron</th>\n",
       "      <th>PrecioUnitario</th>\n",
       "    </tr>\n",
       "  </thead>\n",
       "  <tbody>\n",
       "    <tr>\n",
       "      <th>0</th>\n",
       "      <td>10001</td>\n",
       "      <td>3532.0000</td>\n",
       "      <td>CALENTADOR.EVERS</td>\n",
       "      <td>3532.0000</td>\n",
       "    </tr>\n",
       "    <tr>\n",
       "      <th>1</th>\n",
       "      <td>10002</td>\n",
       "      <td>3684.0000</td>\n",
       "      <td>CALENTADOR.EVERS</td>\n",
       "      <td>3684.0000</td>\n",
       "    </tr>\n",
       "    <tr>\n",
       "      <th>2</th>\n",
       "      <td>1001</td>\n",
       "      <td>62.2725</td>\n",
       "      <td>DESTAPA.CAÑERIAS</td>\n",
       "      <td>62.2725</td>\n",
       "    </tr>\n",
       "    <tr>\n",
       "      <th>3</th>\n",
       "      <td>10011</td>\n",
       "      <td>3517.0000</td>\n",
       "      <td>ESTUFA.CUARZO</td>\n",
       "      <td>3517.0000</td>\n",
       "    </tr>\n",
       "    <tr>\n",
       "      <th>4</th>\n",
       "      <td>10013</td>\n",
       "      <td>785.8500</td>\n",
       "      <td>CORTA.VIDRIO</td>\n",
       "      <td>785.8500</td>\n",
       "    </tr>\n",
       "    <tr>\n",
       "      <th>...</th>\n",
       "      <td>...</td>\n",
       "      <td>...</td>\n",
       "      <td>...</td>\n",
       "      <td>...</td>\n",
       "    </tr>\n",
       "    <tr>\n",
       "      <th>9746</th>\n",
       "      <td>9999950</td>\n",
       "      <td>5000.0000</td>\n",
       "      <td>EXHIBIDORES</td>\n",
       "      <td>5000.0000</td>\n",
       "    </tr>\n",
       "    <tr>\n",
       "      <th>9747</th>\n",
       "      <td>999996</td>\n",
       "      <td>1517.7160</td>\n",
       "      <td>EXHIBIDORES</td>\n",
       "      <td>1517.7160</td>\n",
       "    </tr>\n",
       "    <tr>\n",
       "      <th>9748</th>\n",
       "      <td>999997</td>\n",
       "      <td>303.5432</td>\n",
       "      <td>EXHIBIDORES</td>\n",
       "      <td>303.5432</td>\n",
       "    </tr>\n",
       "    <tr>\n",
       "      <th>9749</th>\n",
       "      <td>999998</td>\n",
       "      <td>3289.2400</td>\n",
       "      <td>EXHIBIDORES</td>\n",
       "      <td>3289.2400</td>\n",
       "    </tr>\n",
       "    <tr>\n",
       "      <th>9750</th>\n",
       "      <td>999999</td>\n",
       "      <td>2276.5740</td>\n",
       "      <td>EXHIBIDORES</td>\n",
       "      <td>2276.5740</td>\n",
       "    </tr>\n",
       "  </tbody>\n",
       "</table>\n",
       "<p>9751 rows × 4 columns</p>\n",
       "</div>"
      ],
      "text/plain": [
       "      ArticuloID  PrecioCosto        ArticuloPatron  PrecioUnitario\n",
       "0          10001    3532.0000  CALENTADOR.EVERS           3532.0000\n",
       "1          10002    3684.0000  CALENTADOR.EVERS           3684.0000\n",
       "2           1001      62.2725  DESTAPA.CAÑERIAS             62.2725\n",
       "3          10011    3517.0000  ESTUFA.CUARZO              3517.0000\n",
       "4          10013     785.8500  CORTA.VIDRIO                785.8500\n",
       "...          ...          ...                   ...             ...\n",
       "9746     9999950    5000.0000  EXHIBIDORES                5000.0000\n",
       "9747      999996    1517.7160  EXHIBIDORES                1517.7160\n",
       "9748      999997     303.5432  EXHIBIDORES                 303.5432\n",
       "9749      999998    3289.2400  EXHIBIDORES                3289.2400\n",
       "9750      999999    2276.5740  EXHIBIDORES                2276.5740\n",
       "\n",
       "[9751 rows x 4 columns]"
      ]
     },
     "execution_count": 16,
     "metadata": {},
     "output_type": "execute_result"
    }
   ],
   "source": [
    "df_items"
   ]
  },
  {
   "cell_type": "code",
   "execution_count": 17,
   "id": "16a3508c",
   "metadata": {
    "execution": {
     "iopub.execute_input": "2023-11-03T01:33:56.070347Z",
     "iopub.status.busy": "2023-11-03T01:33:56.069738Z",
     "iopub.status.idle": "2023-11-03T01:33:56.080290Z",
     "shell.execute_reply": "2023-11-03T01:33:56.079449Z"
    },
    "papermill": {
     "duration": 0.023153,
     "end_time": "2023-11-03T01:33:56.082174",
     "exception": false,
     "start_time": "2023-11-03T01:33:56.059021",
     "status": "completed"
    },
    "tags": []
   },
   "outputs": [
    {
     "data": {
      "text/plain": [
       "False    9751\n",
       "Name: count, dtype: int64"
      ]
     },
     "execution_count": 17,
     "metadata": {},
     "output_type": "execute_result"
    }
   ],
   "source": [
    "duplicates = df_items.duplicated()\n",
    "duplicates.value_counts()"
   ]
  },
  {
   "cell_type": "markdown",
   "id": "060c551d",
   "metadata": {
    "papermill": {
     "duration": 0.00974,
     "end_time": "2023-11-03T01:33:56.101945",
     "exception": false,
     "start_time": "2023-11-03T01:33:56.092205",
     "status": "completed"
    },
    "tags": []
   },
   "source": [
    "### Purchases"
   ]
  },
  {
   "cell_type": "code",
   "execution_count": 18,
   "id": "f8d0b7f2",
   "metadata": {
    "execution": {
     "iopub.execute_input": "2023-11-03T01:33:56.122635Z",
     "iopub.status.busy": "2023-11-03T01:33:56.122377Z",
     "iopub.status.idle": "2023-11-03T01:33:56.134378Z",
     "shell.execute_reply": "2023-11-03T01:33:56.133462Z"
    },
    "papermill": {
     "duration": 0.024772,
     "end_time": "2023-11-03T01:33:56.136461",
     "exception": false,
     "start_time": "2023-11-03T01:33:56.111689",
     "status": "completed"
    },
    "tags": []
   },
   "outputs": [
    {
     "data": {
      "text/html": [
       "<div>\n",
       "<style scoped>\n",
       "    .dataframe tbody tr th:only-of-type {\n",
       "        vertical-align: middle;\n",
       "    }\n",
       "\n",
       "    .dataframe tbody tr th {\n",
       "        vertical-align: top;\n",
       "    }\n",
       "\n",
       "    .dataframe thead th {\n",
       "        text-align: right;\n",
       "    }\n",
       "</style>\n",
       "<table border=\"1\" class=\"dataframe\">\n",
       "  <thead>\n",
       "    <tr style=\"text-align: right;\">\n",
       "      <th></th>\n",
       "      <th>CodCliente</th>\n",
       "      <th>CodArticu</th>\n",
       "      <th>Cantidad</th>\n",
       "    </tr>\n",
       "  </thead>\n",
       "  <tbody>\n",
       "    <tr>\n",
       "      <th>0</th>\n",
       "      <td>6998</td>\n",
       "      <td>55001</td>\n",
       "      <td>10.0</td>\n",
       "    </tr>\n",
       "    <tr>\n",
       "      <th>1</th>\n",
       "      <td>6998</td>\n",
       "      <td>50635222</td>\n",
       "      <td>4.0</td>\n",
       "    </tr>\n",
       "    <tr>\n",
       "      <th>2</th>\n",
       "      <td>454</td>\n",
       "      <td>610706</td>\n",
       "      <td>1.0</td>\n",
       "    </tr>\n",
       "    <tr>\n",
       "      <th>3</th>\n",
       "      <td>454</td>\n",
       "      <td>610701</td>\n",
       "      <td>5.0</td>\n",
       "    </tr>\n",
       "    <tr>\n",
       "      <th>4</th>\n",
       "      <td>454</td>\n",
       "      <td>372840</td>\n",
       "      <td>1.0</td>\n",
       "    </tr>\n",
       "    <tr>\n",
       "      <th>...</th>\n",
       "      <td>...</td>\n",
       "      <td>...</td>\n",
       "      <td>...</td>\n",
       "    </tr>\n",
       "    <tr>\n",
       "      <th>1798978</th>\n",
       "      <td>1896</td>\n",
       "      <td>153003</td>\n",
       "      <td>5.0</td>\n",
       "    </tr>\n",
       "    <tr>\n",
       "      <th>1798979</th>\n",
       "      <td>1595</td>\n",
       "      <td>94214</td>\n",
       "      <td>100.0</td>\n",
       "    </tr>\n",
       "    <tr>\n",
       "      <th>1798980</th>\n",
       "      <td>1403</td>\n",
       "      <td>12151</td>\n",
       "      <td>10.0</td>\n",
       "    </tr>\n",
       "    <tr>\n",
       "      <th>1798981</th>\n",
       "      <td>1317</td>\n",
       "      <td>701501</td>\n",
       "      <td>1500.0</td>\n",
       "    </tr>\n",
       "    <tr>\n",
       "      <th>1798982</th>\n",
       "      <td>1317</td>\n",
       "      <td>701601</td>\n",
       "      <td>1000.0</td>\n",
       "    </tr>\n",
       "  </tbody>\n",
       "</table>\n",
       "<p>1798983 rows × 3 columns</p>\n",
       "</div>"
      ],
      "text/plain": [
       "         CodCliente CodArticu  Cantidad\n",
       "0              6998     55001      10.0\n",
       "1              6998  50635222       4.0\n",
       "2               454    610706       1.0\n",
       "3               454    610701       5.0\n",
       "4               454    372840       1.0\n",
       "...             ...       ...       ...\n",
       "1798978        1896    153003       5.0\n",
       "1798979        1595     94214     100.0\n",
       "1798980        1403     12151      10.0\n",
       "1798981        1317    701501    1500.0\n",
       "1798982        1317    701601    1000.0\n",
       "\n",
       "[1798983 rows x 3 columns]"
      ]
     },
     "execution_count": 18,
     "metadata": {},
     "output_type": "execute_result"
    }
   ],
   "source": [
    "df_purchases"
   ]
  },
  {
   "cell_type": "code",
   "execution_count": 19,
   "id": "3877dd02",
   "metadata": {
    "execution": {
     "iopub.execute_input": "2023-11-03T01:33:56.158539Z",
     "iopub.status.busy": "2023-11-03T01:33:56.158277Z",
     "iopub.status.idle": "2023-11-03T01:33:56.162777Z",
     "shell.execute_reply": "2023-11-03T01:33:56.161946Z"
    },
    "papermill": {
     "duration": 0.01721,
     "end_time": "2023-11-03T01:33:56.164706",
     "exception": false,
     "start_time": "2023-11-03T01:33:56.147496",
     "status": "completed"
    },
    "tags": []
   },
   "outputs": [],
   "source": [
    "df_purchases.rename(columns={'CodCliente':'ClienteID', 'CodArticu': 'ArticuloID'}, inplace=True)"
   ]
  },
  {
   "cell_type": "code",
   "execution_count": 20,
   "id": "859df51d",
   "metadata": {
    "execution": {
     "iopub.execute_input": "2023-11-03T01:33:56.185748Z",
     "iopub.status.busy": "2023-11-03T01:33:56.185491Z",
     "iopub.status.idle": "2023-11-03T01:33:56.193562Z",
     "shell.execute_reply": "2023-11-03T01:33:56.192700Z"
    },
    "papermill": {
     "duration": 0.020958,
     "end_time": "2023-11-03T01:33:56.195752",
     "exception": false,
     "start_time": "2023-11-03T01:33:56.174794",
     "status": "completed"
    },
    "tags": []
   },
   "outputs": [
    {
     "name": "stdout",
     "output_type": "stream",
     "text": [
      "<class 'pandas.core.frame.DataFrame'>\n",
      "RangeIndex: 1798983 entries, 0 to 1798982\n",
      "Data columns (total 3 columns):\n",
      " #   Column      Dtype  \n",
      "---  ------      -----  \n",
      " 0   ClienteID   int64  \n",
      " 1   ArticuloID  object \n",
      " 2   Cantidad    float64\n",
      "dtypes: float64(1), int64(1), object(1)\n",
      "memory usage: 41.2+ MB\n"
     ]
    }
   ],
   "source": [
    "df_purchases.info()"
   ]
  },
  {
   "cell_type": "code",
   "execution_count": 21,
   "id": "16b37aa6",
   "metadata": {
    "execution": {
     "iopub.execute_input": "2023-11-03T01:33:56.216916Z",
     "iopub.status.busy": "2023-11-03T01:33:56.216677Z",
     "iopub.status.idle": "2023-11-03T01:33:56.381541Z",
     "shell.execute_reply": "2023-11-03T01:33:56.380730Z"
    },
    "papermill": {
     "duration": 0.177507,
     "end_time": "2023-11-03T01:33:56.383370",
     "exception": false,
     "start_time": "2023-11-03T01:33:56.205863",
     "status": "completed"
    },
    "tags": []
   },
   "outputs": [
    {
     "data": {
      "text/plain": [
       "ClienteID     0\n",
       "ArticuloID    0\n",
       "Cantidad      0\n",
       "dtype: int64"
      ]
     },
     "execution_count": 21,
     "metadata": {},
     "output_type": "execute_result"
    }
   ],
   "source": [
    "df_purchases.isnull().sum()"
   ]
  },
  {
   "cell_type": "code",
   "execution_count": 22,
   "id": "902cf529",
   "metadata": {
    "execution": {
     "iopub.execute_input": "2023-11-03T01:33:56.405054Z",
     "iopub.status.busy": "2023-11-03T01:33:56.404801Z",
     "iopub.status.idle": "2023-11-03T01:33:56.938727Z",
     "shell.execute_reply": "2023-11-03T01:33:56.937831Z"
    },
    "papermill": {
     "duration": 0.547016,
     "end_time": "2023-11-03T01:33:56.940801",
     "exception": false,
     "start_time": "2023-11-03T01:33:56.393785",
     "status": "completed"
    },
    "tags": []
   },
   "outputs": [
    {
     "data": {
      "text/plain": [
       "False    1798983\n",
       "Name: count, dtype: int64"
      ]
     },
     "execution_count": 22,
     "metadata": {},
     "output_type": "execute_result"
    }
   ],
   "source": [
    "duplicates = df_purchases.duplicated()\n",
    "duplicates.value_counts()"
   ]
  },
  {
   "cell_type": "code",
   "execution_count": 23,
   "id": "5bda3327",
   "metadata": {
    "execution": {
     "iopub.execute_input": "2023-11-03T01:33:56.963607Z",
     "iopub.status.busy": "2023-11-03T01:33:56.963303Z",
     "iopub.status.idle": "2023-11-03T01:34:00.194563Z",
     "shell.execute_reply": "2023-11-03T01:34:00.193577Z"
    },
    "papermill": {
     "duration": 3.244886,
     "end_time": "2023-11-03T01:34:00.196807",
     "exception": false,
     "start_time": "2023-11-03T01:33:56.951921",
     "status": "completed"
    },
    "tags": []
   },
   "outputs": [
    {
     "name": "stdout",
     "output_type": "stream",
     "text": [
      "       ClienteID ArticuloID  Cantidad\n",
      "87114       1571      ERROR       1.0\n",
      "87115         32      ERROR       1.0\n",
      "87128        545      ERROR       1.0\n"
     ]
    },
    {
     "name": "stderr",
     "output_type": "stream",
     "text": [
      "/tmp/ipykernel_27/1296008951.py:8: SettingWithCopyWarning: \n",
      "A value is trying to be set on a copy of a slice from a DataFrame.\n",
      "Try using .loc[row_indexer,col_indexer] = value instead\n",
      "\n",
      "See the caveats in the documentation: https://pandas.pydata.org/pandas-docs/stable/user_guide/indexing.html#returning-a-view-versus-a-copy\n",
      "  df_purchases['ArticuloID'] = df_purchases['ArticuloID'].astype('int64')\n"
     ]
    }
   ],
   "source": [
    "mask2 = df_purchases['ArticuloID'].str.contains('[a-zA-Z]', na=False)\n",
    "\n",
    "rows_with_words2 = df_purchases[mask2]\n",
    "\n",
    "print(rows_with_words2)\n",
    "\n",
    "df_purchases = df_purchases[~mask2]\n",
    "df_purchases['ArticuloID'] = df_purchases['ArticuloID'].astype('int64')"
   ]
  },
  {
   "cell_type": "code",
   "execution_count": 24,
   "id": "dac72b11",
   "metadata": {
    "execution": {
     "iopub.execute_input": "2023-11-03T01:34:00.219561Z",
     "iopub.status.busy": "2023-11-03T01:34:00.219052Z",
     "iopub.status.idle": "2023-11-03T01:34:00.228227Z",
     "shell.execute_reply": "2023-11-03T01:34:00.227158Z"
    },
    "papermill": {
     "duration": 0.022777,
     "end_time": "2023-11-03T01:34:00.230384",
     "exception": false,
     "start_time": "2023-11-03T01:34:00.207607",
     "status": "completed"
    },
    "tags": []
   },
   "outputs": [
    {
     "name": "stdout",
     "output_type": "stream",
     "text": [
      "<class 'pandas.core.frame.DataFrame'>\n",
      "Index: 1798980 entries, 0 to 1798982\n",
      "Data columns (total 3 columns):\n",
      " #   Column      Dtype  \n",
      "---  ------      -----  \n",
      " 0   ClienteID   int64  \n",
      " 1   ArticuloID  int64  \n",
      " 2   Cantidad    float64\n",
      "dtypes: float64(1), int64(2)\n",
      "memory usage: 54.9 MB\n"
     ]
    }
   ],
   "source": [
    "df_purchases.info()"
   ]
  },
  {
   "cell_type": "code",
   "execution_count": 25,
   "id": "55d45528",
   "metadata": {
    "execution": {
     "iopub.execute_input": "2023-11-03T01:34:00.293614Z",
     "iopub.status.busy": "2023-11-03T01:34:00.293271Z",
     "iopub.status.idle": "2023-11-03T01:34:00.305695Z",
     "shell.execute_reply": "2023-11-03T01:34:00.304745Z"
    },
    "papermill": {
     "duration": 0.02638,
     "end_time": "2023-11-03T01:34:00.307876",
     "exception": false,
     "start_time": "2023-11-03T01:34:00.281496",
     "status": "completed"
    },
    "tags": []
   },
   "outputs": [
    {
     "data": {
      "text/html": [
       "<div>\n",
       "<style scoped>\n",
       "    .dataframe tbody tr th:only-of-type {\n",
       "        vertical-align: middle;\n",
       "    }\n",
       "\n",
       "    .dataframe tbody tr th {\n",
       "        vertical-align: top;\n",
       "    }\n",
       "\n",
       "    .dataframe thead th {\n",
       "        text-align: right;\n",
       "    }\n",
       "</style>\n",
       "<table border=\"1\" class=\"dataframe\">\n",
       "  <thead>\n",
       "    <tr style=\"text-align: right;\">\n",
       "      <th></th>\n",
       "      <th>ClienteID</th>\n",
       "      <th>ArticuloID</th>\n",
       "      <th>Cantidad</th>\n",
       "    </tr>\n",
       "  </thead>\n",
       "  <tbody>\n",
       "    <tr>\n",
       "      <th>0</th>\n",
       "      <td>6998</td>\n",
       "      <td>55001</td>\n",
       "      <td>10.0</td>\n",
       "    </tr>\n",
       "    <tr>\n",
       "      <th>1</th>\n",
       "      <td>6998</td>\n",
       "      <td>50635222</td>\n",
       "      <td>4.0</td>\n",
       "    </tr>\n",
       "    <tr>\n",
       "      <th>2</th>\n",
       "      <td>454</td>\n",
       "      <td>610706</td>\n",
       "      <td>1.0</td>\n",
       "    </tr>\n",
       "    <tr>\n",
       "      <th>3</th>\n",
       "      <td>454</td>\n",
       "      <td>610701</td>\n",
       "      <td>5.0</td>\n",
       "    </tr>\n",
       "    <tr>\n",
       "      <th>4</th>\n",
       "      <td>454</td>\n",
       "      <td>372840</td>\n",
       "      <td>1.0</td>\n",
       "    </tr>\n",
       "    <tr>\n",
       "      <th>...</th>\n",
       "      <td>...</td>\n",
       "      <td>...</td>\n",
       "      <td>...</td>\n",
       "    </tr>\n",
       "    <tr>\n",
       "      <th>1798978</th>\n",
       "      <td>1896</td>\n",
       "      <td>153003</td>\n",
       "      <td>5.0</td>\n",
       "    </tr>\n",
       "    <tr>\n",
       "      <th>1798979</th>\n",
       "      <td>1595</td>\n",
       "      <td>94214</td>\n",
       "      <td>100.0</td>\n",
       "    </tr>\n",
       "    <tr>\n",
       "      <th>1798980</th>\n",
       "      <td>1403</td>\n",
       "      <td>12151</td>\n",
       "      <td>10.0</td>\n",
       "    </tr>\n",
       "    <tr>\n",
       "      <th>1798981</th>\n",
       "      <td>1317</td>\n",
       "      <td>701501</td>\n",
       "      <td>1500.0</td>\n",
       "    </tr>\n",
       "    <tr>\n",
       "      <th>1798982</th>\n",
       "      <td>1317</td>\n",
       "      <td>701601</td>\n",
       "      <td>1000.0</td>\n",
       "    </tr>\n",
       "  </tbody>\n",
       "</table>\n",
       "<p>1798980 rows × 3 columns</p>\n",
       "</div>"
      ],
      "text/plain": [
       "         ClienteID  ArticuloID  Cantidad\n",
       "0             6998       55001      10.0\n",
       "1             6998    50635222       4.0\n",
       "2              454      610706       1.0\n",
       "3              454      610701       5.0\n",
       "4              454      372840       1.0\n",
       "...            ...         ...       ...\n",
       "1798978       1896      153003       5.0\n",
       "1798979       1595       94214     100.0\n",
       "1798980       1403       12151      10.0\n",
       "1798981       1317      701501    1500.0\n",
       "1798982       1317      701601    1000.0\n",
       "\n",
       "[1798980 rows x 3 columns]"
      ]
     },
     "execution_count": 25,
     "metadata": {},
     "output_type": "execute_result"
    }
   ],
   "source": [
    "df_purchases"
   ]
  },
  {
   "cell_type": "code",
   "execution_count": 26,
   "id": "dcad62fd",
   "metadata": {
    "execution": {
     "iopub.execute_input": "2023-11-03T01:34:00.331596Z",
     "iopub.status.busy": "2023-11-03T01:34:00.331302Z",
     "iopub.status.idle": "2023-11-03T01:34:05.293912Z",
     "shell.execute_reply": "2023-11-03T01:34:05.292948Z"
    },
    "papermill": {
     "duration": 4.97696,
     "end_time": "2023-11-03T01:34:05.296475",
     "exception": false,
     "start_time": "2023-11-03T01:34:00.319515",
     "status": "completed"
    },
    "tags": []
   },
   "outputs": [],
   "source": [
    "df_purchases.to_csv('purchases.csv', index=False)\n",
    "df_items.to_csv('items.csv', index=False)\n",
    "df_users.to_csv('users.csv', index=False)"
   ]
  }
 ],
 "metadata": {
  "kernelspec": {
   "display_name": "Python 3",
   "language": "python",
   "name": "python3"
  },
  "language_info": {
   "codemirror_mode": {
    "name": "ipython",
    "version": 3
   },
   "file_extension": ".py",
   "mimetype": "text/x-python",
   "name": "python",
   "nbconvert_exporter": "python",
   "pygments_lexer": "ipython3",
   "version": "3.10.12"
  },
  "papermill": {
   "default_parameters": {},
   "duration": 24.362109,
   "end_time": "2023-11-03T01:34:06.830255",
   "environment_variables": {},
   "exception": null,
   "input_path": "__notebook__.ipynb",
   "output_path": "__notebook__.ipynb",
   "parameters": {},
   "start_time": "2023-11-03T01:33:42.468146",
   "version": "2.4.0"
  }
 },
 "nbformat": 4,
 "nbformat_minor": 5
}
